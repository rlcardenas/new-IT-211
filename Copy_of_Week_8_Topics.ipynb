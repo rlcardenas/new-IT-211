{
  "nbformat": 4,
  "nbformat_minor": 0,
  "metadata": {
    "colab": {
      "name": "Copy of Week 8 Topics.ipynb",
      "private_outputs": true,
      "provenance": [],
      "collapsed_sections": [],
      "include_colab_link": true
    },
    "kernelspec": {
      "name": "python3",
      "display_name": "Python 3"
    }
  },
  "cells": [
    {
      "cell_type": "markdown",
      "metadata": {
        "id": "view-in-github",
        "colab_type": "text"
      },
      "source": [
        "<a href=\"https://colab.research.google.com/github/rlcardenas/new-IT-211/blob/main/Copy_of_Week_8_Topics.ipynb\" target=\"_parent\"><img src=\"https://colab.research.google.com/assets/colab-badge.svg\" alt=\"Open In Colab\"/></a>"
      ]
    },
    {
      "cell_type": "markdown",
      "metadata": {
        "id": "L9jlfvbnhbee"
      },
      "source": [
        "# Topics\n",
        "\n",
        "* Objects and Classes basics\n",
        "* Using and defining classes\n",
        "* Mutators, accessors and private helper methods (getters & setters)\n",
        "* Constructors\n",
        "* Defining the main() in custom defined classes\n",
        "* Class unit testing"
      ]
    },
    {
      "cell_type": "markdown",
      "metadata": {
        "id": "AbwSpNfOp49F"
      },
      "source": [
        "# Just Doing Classes\n",
        "\n",
        "We will only be doing class creation this week, as I think it will be alot and we won't be able to get to arrays of objects.  Next week, we'll jump ahead two chapters to inheritance, and I'll give you any notes from the previous two chapters you might need to understand the inheritance chapter.  "
      ]
    },
    {
      "cell_type": "markdown",
      "metadata": {
        "id": "h6W53BuSmkoC"
      },
      "source": [
        "# Objects and Classes Basics\n",
        "\n",
        "* Good intro explanation of OOP with Java: https://www.w3schools.com/java/java_oop.asp\n",
        "* Creating Classes and Objects: https://www.w3schools.com/java/java_oop.asp\n",
        "\n",
        "# Quick Notes\n",
        "* Objects are built from classes.\n",
        "* You can instantiate multiple objects of the same class in your code.  We do this all the time with Strings, for example.  A String is an object of the class **java.lang.String**.\n",
        "* We build and use a single instance of Scanner the Scanner class a lot.\n",
        "* As you learned in \"Mutable Objects\", classes can have **attributes** which are values of the class.  See below for how to construct a very simple class with two attributes that calls itself from main."
      ]
    },
    {
      "cell_type": "code",
      "metadata": {
        "id": "ga5eAONUorne"
      },
      "source": [
        "%%writefile TestMe.java\n",
        "public class TestMe {\n",
        "    String test = \"I am a test\";\n",
        "    double pi = 3.14;\n",
        "\n",
        "    public static void main(String [] args){\n",
        "        TestMe testingTestMe = new TestMe();\n",
        "        System.out.println(testingTestMe.test + \" \" + testingTestMe.pi);\n",
        "    }\n",
        "}"
      ],
      "execution_count": null,
      "outputs": []
    },
    {
      "cell_type": "code",
      "metadata": {
        "id": "18UTJLaFrQTO"
      },
      "source": [
        "!javac TestMe.java \n",
        "!java TestMe"
      ],
      "execution_count": null,
      "outputs": []
    },
    {
      "cell_type": "markdown",
      "metadata": {
        "id": "I-EQGlKItlTw"
      },
      "source": [
        "# Attributes \n",
        "* https://www.w3schools.com/java/java_class_attributes.asp\n",
        "* Basically pre-declared variables that belong to classes\n",
        "* You can set an attribute for an object using \"dot notation\".  In the case of our TestMe class, it has two attributes:\n",
        "* `test`, which is a string, and can be accessed via `testingTestMe.test`.\n",
        "* `pi`, which is a double and can be accessed via `testingTestMe.pi`\n",
        "* Both attributes can be set just as you would any other variable.\n",
        "* If you don't want the value of an attribute to be overwritten, declare it as final."
      ]
    },
    {
      "cell_type": "markdown",
      "metadata": {
        "id": "6ECrZl2osD1b"
      },
      "source": [
        "What if we wanted to set those variables to something else when we created the object?"
      ]
    },
    {
      "cell_type": "code",
      "metadata": {
        "id": "KOY4pQ2hsOd6"
      },
      "source": [
        "%%writefile TestMe.java\n",
        "public class TestMe {\n",
        "    String test = \"I am a test\";  // What happens when we make one of these final?\n",
        "    double pi = 3.14;\n",
        "\n",
        "    public static void main(String [] args){\n",
        "        TestMe testingTestMe = new TestMe();\n",
        "        \n",
        "        // Changing the value of both attributes.\n",
        "        // Accessing them via dot notation.\n",
        "        testingTestMe.test = \"I'm so new!!\";\n",
        "        testingTestMe.pi = 55.04;\n",
        "\n",
        "        System.out.println(testingTestMe.test + \" \" + testingTestMe.pi);\n",
        "    }\n",
        "}"
      ],
      "execution_count": null,
      "outputs": []
    },
    {
      "cell_type": "code",
      "metadata": {
        "id": "Jg0tKAtfsRdx"
      },
      "source": [
        "!javac TestMe.java \n",
        "!java TestMe"
      ],
      "execution_count": null,
      "outputs": []
    },
    {
      "cell_type": "markdown",
      "metadata": {
        "id": "eEEH3qtazGoM"
      },
      "source": [
        "# Non-Static Methods\n",
        "* Remember we said that most methods were not static, but we would worry about that later?  This is later!  Now that we're writing and invoking our own classes, we can start treating methods in the common way.\n",
        "* Most methods are accessed through the name of the object their class has been invoked in, usiung dot notation.  So, for example, if I had a method called `printRandNumber()` in a class called `PrintWeirdThings` and I created an instance of the class using the code `PtrintWeirdThings myObj = new PrintWeirdThings();` then I could access `.printRandNumber()` via the object, like so `myObj.printRandNumber()`\n",
        "* If a method is **static**, it does not invoke the class and cannot use class properties.  It is accessed via `Classname.methodName()`.\n",
        "* if a method is **not static**, as most aren't it is accessed by `ClassObjectName.methodName()`.\n",
        "* Check out the method modifiers on this page for a list of the ways you can alter the behavior of methods when they're declared: https://www.w3schools.com/java/java_modifiers.asp"
      ]
    },
    {
      "cell_type": "code",
      "metadata": {
        "id": "hEdHdu5D1YB-"
      },
      "source": [
        "%%writefile PrintWeirdThings.java\n",
        "import java.util.Random;\n",
        "\n",
        "public class PrintWeirdThings{\n",
        "    final String asciiArt =  \"                                              \\n\"\n",
        "\t\t+ \"                                        (     \\n\"\n",
        "\t\t+ \" (       )    )     (  (     (  (  (    )\\\\ )  \\n\"\n",
        "\t\t+ \" )\\\\   ( /(   (      )\\\\))(   ))\\\\ )\\\\ )(  (()/(  \\n\"\n",
        "\t\t+ \"((_)  )(_))  )\\\\  ' ((_)()\\\\ /((_|(_|()\\\\  ((_)) \\n\"\n",
        "\t\t+ \" (_) ((_)_ _((_))  _(()((_|_))  (_)((_) _| |  \\n\"\n",
        "\t\t+ \" | | / _` | '  \\\\() \\\\ V  V / -_) | | '_/ _` |  \\n\"\n",
        "\t\t+ \" |_| \\\\__,_|_|_|_|   \\\\_/\\\\_/\\\\___| |_|_| \\\\__,_|\";\n",
        "\n",
        "    String weirdSayings = \"\";\n",
        "\n",
        "    public static void main(String [] args) {\n",
        "        PrintWeirdThings myObj = new PrintWeirdThings();\n",
        "        System.out.println(\"Some random weird things in here.\");\n",
        "        System.out.println(myObj.asciiArt + \"\\n\\n\");\n",
        "\n",
        "        System.out.println(\"Here's a random number for you:\");\n",
        "        System.out.println(myObj.printRandomNumber());\n",
        "        \n",
        "    }\n",
        "\n",
        "    public int printRandomNumber() {\n",
        "        Random rand = new Random();\n",
        "        int result = rand.nextInt();\n",
        "\n",
        "        return result;\n",
        "        \n",
        "    }\n",
        "    \n",
        "}"
      ],
      "execution_count": null,
      "outputs": []
    },
    {
      "cell_type": "code",
      "metadata": {
        "id": "aCEoYOAC1X1e"
      },
      "source": [
        "!javac PrintWeirdThings.java\n",
        "!java PrintWeirdThings"
      ],
      "execution_count": null,
      "outputs": []
    },
    {
      "cell_type": "markdown",
      "metadata": {
        "id": "PriPtkothVVr"
      },
      "source": [
        "# Constructors & `this`\n",
        "\n",
        "* Constructors initialize the object.\n",
        "* The name of the constructor is the same as the name of the class.\n",
        "* Constructors have no return type (and no return value).\n",
        "* The keyword static is omitted.\n",
        "* If you don't make a constructor, Java provides a default one, as you saw above, but you can't pass arguments to it.\n",
        "* Use the keyword `this` in your constructor to refer to the current constructor, it can also be used to refer to the current object.  It is super useful, as you will see.\n",
        "* Constructors allow you to create parameters for a class, just as you would for a method.\n",
        "* Good examples: https://www.w3schools.com/java/java_constructors.asp\n"
      ]
    },
    {
      "cell_type": "code",
      "metadata": {
        "id": "5NuFJXuNgbt1"
      },
      "source": [
        "%%writefile PrintWeirdThings.java\n",
        "import java.util.Random;\n",
        "\n",
        "public class PrintWeirdThings{\n",
        "    private String asciiArt;\n",
        "\n",
        "    private String weirdSayings;\n",
        "\n",
        "    public PrintWeirdThings(){\n",
        "        this.asciiArt = \"                                              \\n\"\n",
        "\t\t+ \"                                        (     \\n\"\n",
        "\t\t+ \" (       )    )     (  (     (  (  (    )\\\\ )  \\n\"\n",
        "\t\t+ \" )\\\\   ( /(   (      )\\\\))(   ))\\\\ )\\\\ )(  (()/(  \\n\"\n",
        "\t\t+ \"((_)  )(_))  )\\\\  ' ((_)()\\\\ /((_|(_|()\\\\  ((_)) \\n\"\n",
        "\t\t+ \" (_) ((_)_ _((_))  _(()((_|_))  (_)((_) _| |  \\n\"\n",
        "\t\t+ \" | | / _` | '  \\\\() \\\\ V  V / -_) | | '_/ _` |  \\n\"\n",
        "\t\t+ \" |_| \\\\__,_|_|_|_|   \\\\_/\\\\_/\\\\___| |_|_| \\\\__,_|\";\n",
        "\n",
        "        this.weirdSayings = \"Bertrand said it, and I'll say it again!  There's always a prime number between n and 2n\";\n",
        "    }\n",
        "\n",
        "    public PrintWeirdThings(String asciiArt, String weirdSayings) {\n",
        "        this.asciiArt = asciiArt;\n",
        "        this.weirdSayings = weirdSayings;\n",
        "        \n",
        "    }\n",
        "\n",
        "    public static void main(String [] args) {\n",
        "        PrintWeirdThings myObj = new PrintWeirdThings(\";)\", \"The same thing we do every night Pinki, try to take over the world!\");\n",
        "        System.out.println(myObj.asciiArt + \"\\n\\n\");\n",
        "\n",
        "        System.out.println(\"Here's a random number for you:\");\n",
        "        System.out.println(myObj.printRandomNumber());\n",
        "\n",
        "        System.out.println(\"\\nA weird saying: \" + myObj.weirdSayings);\n",
        "        \n",
        "    }\n",
        "\n",
        "    public int printRandomNumber() {\n",
        "        Random rand = new Random();\n",
        "        int result = rand.nextInt();\n",
        "\n",
        "        return result;\n",
        "        \n",
        "    }\n",
        "    \n",
        "}"
      ],
      "execution_count": null,
      "outputs": []
    },
    {
      "cell_type": "code",
      "metadata": {
        "id": "l30Vsd5Lh0ab"
      },
      "source": [
        "!javac PrintWeirdThings.java\n",
        "!java PrintWeirdThings"
      ],
      "execution_count": null,
      "outputs": []
    },
    {
      "cell_type": "markdown",
      "metadata": {
        "id": "g8SU9mchltEH"
      },
      "source": [
        "# Getters and Setters (Formal Name for Setters is Mutators)\n",
        "\n",
        "* Methods for getting values from private attributes.\n",
        "* Methods for setting values of private attributes.\n",
        "\n",
        "* getSomething()\n",
        "* setSomething()\n",
        "\n",
        "```java\n",
        "// Getter\n",
        "public String getAsciiArt() {\n",
        "    return this.asciiArt;\n",
        "}\n",
        "\n",
        "// Setter\n",
        "public void setWeirdSayings(string weirdSayings) {\n",
        "    this.weirdSayings = weirdSayings;\n",
        "}\n",
        "\n",
        "```"
      ]
    },
    {
      "cell_type": "markdown",
      "metadata": {
        "id": "gxZYo-Dlzi0T"
      },
      "source": [
        "# Private Helper Methods\n",
        "\n",
        "* Private helper methods are just methods that can be called by other methods within the class to perform tasks, they cannot be called by users of the class, or anything outside the class.\n",
        "\n",
        "* A private helper method could have a definition like `private int fibinacci(int x)`\n",
        "\n",
        "* They're like class-specific utilities and can be used to store algorithms, etc. that should be inaccessible to the outside world, but is needed in performing the duties of the class."
      ]
    },
    {
      "cell_type": "markdown",
      "metadata": {
        "id": "MLCftIHcvc7k"
      },
      "source": [
        "#Putting it all together\n",
        "\n",
        "Let's make a fully fledged class with instance variables, constructors getters, setters, equals & toString methods, and something fun in the main method.  Note: you will need to go through the same steps for one of your homework labs, so please ask questions if you don't understand some part of what we're doing!"
      ]
    },
    {
      "cell_type": "code",
      "metadata": {
        "id": "NgY0x31TvNwq"
      },
      "source": [
        "// Class definition                 (task 1)\n",
        "    // instance variable 1          (task 1) Note: these should probobly be private, since there are getters and setters.\n",
        "    // instance variable 2          (task 1) Note: these should probobly be private, since there are getters and setters.\n",
        "                                    \n",
        "    // constructor                  (task 2)\n",
        "\n",
        "    // class-specific method        (task 3)\n",
        "\n",
        "    // main method                  (task 4)\n",
        "\n",
        "    // toString method              (task 5)\n",
        "\n",
        "    // equals method                (task 5)\n",
        "\n",
        "    // getter method for instance variable 1        (task 6)\n",
        "    // getter method for instance variable 2        (task 6)\n",
        "\n",
        "    // setter method for instance variable 1        (task 6)\n",
        "    // setter method for instance variable 2        (task 6) "
      ],
      "execution_count": null,
      "outputs": []
    },
    {
      "cell_type": "code",
      "metadata": {
        "id": "dZCC_jVjvaMP"
      },
      "source": [
        ""
      ],
      "execution_count": null,
      "outputs": []
    }
  ]
}