{
  "nbformat": 4,
  "nbformat_minor": 0,
  "metadata": {
    "colab": {
      "name": "Read Chapters 4 and 8 - Methods and Recursive Methods.ipynb",
      "private_outputs": true,
      "provenance": [],
      "collapsed_sections": [],
      "authorship_tag": "ABX9TyP3wA/VzTut6f2F/Pr/Rs31",
      "include_colab_link": true
    },
    "kernelspec": {
      "name": "python3",
      "display_name": "Python 3"
    }
  },
  "cells": [
    {
      "cell_type": "markdown",
      "metadata": {
        "id": "view-in-github",
        "colab_type": "text"
      },
      "source": [
        "<a href=\"https://colab.research.google.com/github/nic-instruction/IT-211/blob/main/Chapter_Questions/Read_Chapters_4_and_8_Methods_and_Recursive_Methods.ipynb\" target=\"_parent\"><img src=\"https://colab.research.google.com/assets/colab-badge.svg\" alt=\"Open In Colab\"/></a>"
      ]
    },
    {
      "cell_type": "markdown",
      "metadata": {
        "id": "oVflJm04tNVY"
      },
      "source": [
        "Read Chapters 4 & 8 of Think Java, 2nd Edition, answer questions 1 - 14 for Chapter 4, 1-9 for Chapter 8, and complete the two labs in a copy of this notebook.\n",
        "\n",
        "Chapter 4: https://learning.oreilly.com/library/view/think-java-2nd/9781492072492/ch04.html\n",
        "\n",
        "Chapter 8: https://learning.oreilly.com/library/view/think-java-2nd/9781492072492/ch08.html\n",
        "\n",
        "***Reminder: to edit a text block or a code block you can double click on it, or hover over it and press the pencil in the upper right hand corner.***\n",
        "\n",
        "**Please save frequently!** I don't want you to lose your work. When you first open this notebook, go to File > Save. The first time you do this it will tell you it is making a copy. Say yes that you want to save the changes to your copy. When you're done, save your notebook (File > Save) and then save a copy of your notebook to GitHub (File > Save to GitHub). Don't save to GitHub until you're done. Send me the link to your file in GitHub to complete this assignment.\n",
        "\n",
        "If you get stuck, ask on Slack!"
      ]
    },
    {
      "cell_type": "markdown",
      "metadata": {
        "id": "VJA3ivx8mxNU"
      },
      "source": [
        "# Questions"
      ]
    },
    {
      "cell_type": "markdown",
      "metadata": {
        "id": "4-xUlOU9mzid"
      },
      "source": [
        "# Chapter 4\n",
        "\n",
        "1. If my method is declared as `public static void myMethod(String a)` what does it return?\n",
        "\n",
        "A(1).\n",
        "\n",
        "2. If my method is declared as `public static String myMethod(int x)` what does it return?\n",
        "\n",
        "A(2).\n",
        "\n",
        "3. What does it mean if a method is public?\n",
        "\n",
        "A(3).\n",
        "\n",
        "4. By convention, do method names begin with upper-case or lower-case letters?\n",
        "\n",
        "A(4).\n",
        "\n",
        "5. What is the flow of execution for the following code block?\n",
        "\n",
        "```java\n",
        "public static void extraLines(int x) {\n",
        "    for (int i = 0; i < x; i++) {\n",
        "        System.out.println(\"\");\n",
        "        return;\n",
        "    }\n",
        "\n",
        "public static String smileMyLine(String a) {\n",
        "    String surroundSmile = \":) :P :-) \" + a + \" (: :) :P\";\n",
        "    return (surroundSmile);\n",
        "}\n",
        "\n",
        "public static void main(String [] args) {\n",
        "    String happy = \"Send cute cat pictures!\";\n",
        "\n",
        "    System.out.println(happy);\n",
        "    smileMyLine(happy);\n",
        "    extraLines(5);\n",
        "    smileMyLine(happy);\n",
        "}\n",
        "```\n",
        "\n",
        "A(5).\n",
        "\n",
        "6. List three reasons breaking code down into methods can be useful.\n",
        "\n",
        "A(6).\n",
        "\n",
        "7. What is an `argument` and what is a `parameter`?\n",
        "\n",
        "A(7).\n",
        "\n",
        "8. What happens if the argument you pass to a method doesn't match the method's parameter?\n",
        "\n",
        "A(8).\n",
        "\n",
        "9. Say I have two variables, `int num1 = 7; and int num2 = 5;` and I pass them to a method that performs addtion `public static int addTwo(int x, int y)` what will be the variable names of the numbers passed to addTwo (`addTwo(num1, num2);`) when they are inside the addTwo method?\n",
        "\n",
        "A(9).\n",
        "\n",
        "10. What does composition mean?\n",
        "\n",
        "A(10).\n",
        "\n",
        "11. How do you specify a return value in a method?\n",
        "\n",
        "A(11).\n",
        "\n",
        "12. How would you store a return value?\n",
        "\n",
        "A(12).\n",
        "\n",
        "13. What are three key aspects of incremental development?\n",
        "\n",
        "A(13).\n",
        "\n",
        "14. What is \"scaffolding\" and what is it useful for in development?\n",
        "\n",
        "A(14).\n",
        "\n"
      ]
    },
    {
      "cell_type": "markdown",
      "metadata": {
        "id": "U_EACRKVus_Y"
      },
      "source": [
        "# Chapter 8\n",
        "\n",
        "1. What does 'iterative' mean in this context?\n",
        "\n",
        "A(1).\n",
        "\n",
        "2. What is a method that invokes itself called?\n",
        "\n",
        "A(2).\n",
        "\n",
        "3. In the method `countdown` how many additional countdown methods would be invoked if `n` were equal to 6 inside a `countdown` method?\n",
        "\n",
        "A(3). \n",
        "\n",
        "4. Why do the recursive methods `countdown` and `nLines` call themselves with `n - 1`?\n",
        "\n",
        "A(4).\n",
        "\n",
        "5. What is a base case?  What is a stack overflow error?\n",
        "\n",
        "A(5).\n",
        "\n",
        "6. Explain what is going on in the code below (the book does a good job of diagramming it out for you).  When are the values on n returned?  What happens first?\n",
        "\n",
        "```java\n",
        "public static int factorial(int n) {\n",
        "    if (n == 0) {\n",
        "        return 1;\n",
        "    }\n",
        "    int recurse = factorial(n - 1);\n",
        "    int result = n * recurse;\n",
        "    return result;\n",
        "}\n",
        "```\n",
        "\n",
        "A(6).\n",
        "\n",
        "7. Okay, the book told you not to visualize the recursive fibonacci sequence or your mind would be blown, so this question is not asking you to do that.  Instead, it is asking you to explain what's going on with the return statement.  We know that fibonacci() takes an integer and that integer symbolizes which number in the fibonnaci sequence you want to calculate the value of.  For example, the 7th number in the fibonacci sequence is 13, so when we execute `fibonacci(7)` below it returns 13. \n",
        "\n",
        "When it says `return fibonacci(n - 1) + fibonacci(n - 2);`, what does that mean?\n",
        "\n",
        "(I've put in a print statement that might or might not help, leave it in or remove it as you like)"
      ]
    },
    {
      "cell_type": "code",
      "metadata": {
        "id": "tZhazLQKHTfw"
      },
      "source": [
        "%%writefile VisualizeFibonacci.java\n",
        "public class VisualizeFibonacci{\n",
        "    public static void main(String [] main){\n",
        "        int result = fibonacci(7);\n",
        "        System.out.println(result);\n",
        "    }\n",
        "\n",
        "    public static int fibonacci(int n) {\n",
        "        if (n == 1 || n == 2) {\n",
        "            return 1;\n",
        "        }\n",
        "        System.out.println(\"fibonacci (\" + (n - 1) + \") + fibonacci(\" + (n - 2) + \").  Where n is \" + n + \".\");\n",
        "        return fibonacci(n - 1) + fibonacci(n - 2);\n",
        "    }\n",
        "}"
      ],
      "execution_count": null,
      "outputs": []
    },
    {
      "cell_type": "code",
      "metadata": {
        "id": "4NksZjV-IMmP"
      },
      "source": [
        "!javac VisualizeFibonacci.java\n",
        "!java VisualizeFibonacci"
      ],
      "execution_count": null,
      "outputs": []
    },
    {
      "cell_type": "markdown",
      "metadata": {
        "id": "4O78__TVXOEz"
      },
      "source": [
        "A(7).\n",
        "\n",
        "8. Why does `countup` reverse the output?\n",
        "\n",
        "A(8).\n",
        "\n",
        "9. Describe how and why the code for `nox` presented in the book, works!\n",
        "\n",
        "A(9)."
      ]
    },
    {
      "cell_type": "markdown",
      "metadata": {
        "id": "cWzWS6g3Z3dS"
      },
      "source": [
        "# Exercises\n",
        "\n",
        "Please complete Exercise 4-1 to apply your knowledge from Chapter 4 and Exercise 8-1 to apply your knowledge from Chapter 8.  **As always, ask if you have problems or get stuck.  **\n",
        "\n",
        "*Exercise 8-1 has a very sneaky simple solution, but you can also brute force it if you need to.  I've tried to provide good hints!*\n",
        "\n",
        "\n"
      ]
    },
    {
      "cell_type": "markdown",
      "metadata": {
        "id": "1ag4PvEEvd7g"
      },
      "source": [
        "# Exercise 4-1 (Methods) stickTogether()\n",
        "\n",
        "*This exercise is not from the book*\n",
        "\n",
        "* Write a method called `stickTogether()` that is called from the `main` method.  \n",
        "* The `stickTogether()` method should take **three strings** as **arguments**\n",
        "* The `stickTogether()` method should `return those` three strings **concatenated together** into one string, with two spaces in between each string.  \n",
        "\n",
        "* Example concatonation: `myFirstString + \"  \" +  mySecondString + \"  \" + myThirdString`."
      ]
    },
    {
      "cell_type": "code",
      "metadata": {
        "id": "EGJQKKmKw8Ab"
      },
      "source": [
        "%%writefile MyClass.java\n",
        "public class MyClass{\n",
        "    // you'll need to declare public static and the return type of stickTogether\n",
        "    stickTogether() {\n",
        "\n",
        "    }\n",
        "\n",
        "    public static void main(String [] args) {\n",
        "        String string1 = \"\";  // Please put something in the quotes for strings 1, 2 and 3.\n",
        "        String string2 = \"\";\n",
        "        String string3 = \"\";\n",
        "\n",
        "        String stuck = stickTogether(string1, string2, string3);\n",
        "        System.out.println(stuck);\n",
        "    }\n",
        "\n",
        "}"
      ],
      "execution_count": null,
      "outputs": []
    },
    {
      "cell_type": "code",
      "metadata": {
        "id": "oQAVecmGw710"
      },
      "source": [
        "!javac MyClass.java \n",
        "!java MyClass"
      ],
      "execution_count": null,
      "outputs": []
    },
    {
      "cell_type": "markdown",
      "metadata": {
        "id": "_aaHIEGIaDML"
      },
      "source": [
        "# Exercise 8-1 (Recursive Methods) beveragesOnAWall()\n",
        "\n",
        "*Note: This exercise is from the book with added comments and structure.*\n",
        "\n",
        "The purpose of this exercise is to take a problem and break it into smaller problems, and to solve the smaller problems by writing simple methods. Consider the first verse of the song “99 Bottles of Beer”:\n",
        "\n",
        "99 bottles of beer on the wall, 99 bottles of beer, ya’ take one down, ya’ pass it around, 98 bottles of beer on the wall.\n",
        "\n",
        "Subsequent verses are identical except that the number of bottles gets smaller by one in each verse, until the last verse:\n",
        "\n",
        "No bottles of beer on the wall, no bottles of beer, ya’ can’t take one down, ya’ can’t pass it around, ’cause there are no more bottles of beer on the wall!\n",
        "\n",
        "And then the song (finally) ends.\n",
        "\n",
        "Write a program that displays the entire lyrics of “99 Bottles of Beer”. Your program should include a recursive method that does the hard part, but you might want to write additional methods to separate other parts of the program. As you develop your code, test it with a small number of verses, like 3.\n",
        "\n",
        "**Despite the book's sugestions, you can complete this method by simply adding 2 println statements and one recursive call.  Don't make it too complicated.  Also, remember that you can print out a number with math in the println statement, you don't need to rely on a recursive method to do math for you, you can print System.out.println(\"n - 1 = \" + (n -1)); without recursing to get the value.  I've provided you with the structure for the terse answer, but feel free to write as many methods as you would like**\n",
        "\n",
        "*Note: You should feel free to change the beverage and container, just so long as you keep the overall structure of the song.  For example: \"99 cups of coffee\" on the wall is a perfectly acceptable substitute, just as \"99 mugs of tea\" would be, or really anything other beverage and container you would like to substitute.*"
      ]
    },
    {
      "cell_type": "code",
      "metadata": {
        "id": "cSdPQANKaxEN"
      },
      "source": [
        "%%writefile NinetyNineBeverages.java\n",
        "public class NinetyNineBeverages{\n",
        "    public static void main(String [] args) {\n",
        "        beveragesOnAWall(99);\n",
        "        \n",
        "    }\n",
        "\n",
        "    public static void beveragesOnAWall(int x) {\n",
        "        if (x == 0) {\n",
        "            System.out.println();\n",
        "            return;\n",
        "            \n",
        "        } else {\n",
        "\n",
        "        }\n",
        "    }\n",
        "}"
      ],
      "execution_count": null,
      "outputs": []
    },
    {
      "cell_type": "code",
      "metadata": {
        "id": "ZSUEJmfYdWV_"
      },
      "source": [
        "!javac NinetyNineBeverages.java\n",
        "!java NinetyNineBeverages"
      ],
      "execution_count": null,
      "outputs": []
    },
    {
      "cell_type": "markdown",
      "metadata": {
        "id": "epCMlKxFl035"
      },
      "source": [
        "# Reminder\n",
        "\n",
        "* When you're done, save your notebook (File > Save) and then save a copy of your notebook to your IT-211 GitHub (File > Save to GitHub).\n",
        "* Send me the link to your file in GitHub to complete this assignment.\n",
        "* If you get stuck, ask on Slack!"
      ]
    }
  ]
}