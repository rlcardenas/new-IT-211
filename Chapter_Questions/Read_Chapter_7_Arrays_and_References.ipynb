{
  "nbformat": 4,
  "nbformat_minor": 0,
  "metadata": {
    "colab": {
      "name": "Read Chapter 7 - Arrays and References.ipynb",
      "private_outputs": true,
      "provenance": [],
      "collapsed_sections": [],
      "authorship_tag": "ABX9TyPh7JCaSX7p0lDoj9mYDN0B",
      "include_colab_link": true
    },
    "kernelspec": {
      "name": "python3",
      "display_name": "Python 3"
    }
  },
  "cells": [
    {
      "cell_type": "markdown",
      "metadata": {
        "id": "view-in-github",
        "colab_type": "text"
      },
      "source": [
        "<a href=\"https://colab.research.google.com/github/nic-instruction/IT-211/blob/main/Chapter_Questions/Read_Chapter_7_Arrays_and_References.ipynb\" target=\"_parent\"><img src=\"https://colab.research.google.com/assets/colab-badge.svg\" alt=\"Open In Colab\"/></a>"
      ]
    },
    {
      "cell_type": "markdown",
      "metadata": {
        "id": "rXv-Q63zeaK7"
      },
      "source": [
        "Read Chapter 7 of Think Java, 2nd Edition, answer questions 1-27, and complete the lab in a copy of this notebook.\n",
        "\n",
        "Chapter 7: https://learning.oreilly.com/library/view/think-java-2nd/9781492072492/ch07.html\n",
        "\n",
        "***Reminder: to edit a text block or a code block you can double click on it, or hover over it and press the pencil in the upper right hand corner.***\n",
        "\n",
        "**Please save frequently!** I don't want you to lose your work. Go to File > Save. The first time you do this it will tell you it is making a copy. Say yes that you want to save the changes to your copy. When you're done, save your notebook (File > Save) and then save a copy of your notebook to GitHub (File > Save to GitHub). Don't save to GitHub until you're done. Send me the link to your file in GitHub to complete this assignment.\n",
        "\n",
        "If you get stuck, ask on Slack!"
      ]
    },
    {
      "cell_type": "markdown",
      "metadata": {
        "id": "YOosI4C_g5pN"
      },
      "source": [
        "#Questions\n",
        "\n",
        "1. Why is the nested loops approach used as one solution for exercise 6-5 inefficient?\n",
        "\n",
        "A:\n",
        "\n",
        "2. What is an array?\n",
        "\n",
        "A:\n",
        "\n",
        "3. The book shows how you would declare an int and double array, given that, how would you declare a `char` or `String` array?\n",
        "\n",
        "A: \n",
        "```\n",
        "\n",
        "```\n",
        "\n",
        "4. How would you **create** the arrays you declared above containing 100 elements?\n",
        "\n",
        "A:\n",
        "```\n",
        "\n",
        "```\n",
        "\n",
        "5. Can you have an array of length zero?  What about -1?\n",
        "\n",
        "A:\n",
        "\n",
        "6. How would you initialize a `char` array by assigning 5 values: `a, b, c, d, e` ? (The book demos this for int)\n",
        "\n",
        "A:\n",
        "```\n",
        "\n",
        "```\n",
        "\n",
        "7. When you create an array with the `new` operator, what are the elements initialized to?\n",
        "\n",
        "A:\n",
        "\n",
        "8. What are array `indexes` used for?\n",
        "\n",
        "A:\n",
        "\n",
        "9. What would you write to extract the 10th element from an array called candy?\n",
        "\n",
        "A:\n",
        "```\n",
        "\n",
        "```\n",
        "\n",
        "10. How would you set the value of `candy[6]` to 36?\n",
        "\n",
        "A:\n",
        "```\n",
        "\n",
        "```\n",
        "\n",
        "11. How would you print the value of `candy[2]` to output?\n",
        "\n",
        "A:\n",
        "```\n",
        "\n",
        "```\n",
        "\n",
        "12. If I have an array called candy and I execute `System.out.println(candy);`, what will the three parts of the output mean?\n",
        "\n",
        "A:\n",
        "\n",
        "13. If we wanted to display the elements of an array, what code would we use? (Okay to cp from the book)\n",
        "\n",
        "A: (put in code block)"
      ]
    },
    {
      "cell_type": "code",
      "metadata": {
        "id": "hCB1K7yz9cG4"
      },
      "source": [
        ""
      ],
      "execution_count": null,
      "outputs": []
    },
    {
      "cell_type": "code",
      "metadata": {
        "id": "P6envqCu9cfE"
      },
      "source": [
        "!javac PrintArray.java\n",
        "!java PrintArray"
      ],
      "execution_count": null,
      "outputs": []
    },
    {
      "cell_type": "markdown",
      "metadata": {
        "id": "W2zyx1P-9mw0"
      },
      "source": [
        "14.  What steps would you go through to use `Arrays.toString(yourArray)` in your code?\n",
        "\n",
        "A:\n",
        "\n",
        "15.  What is an array reference?  Do array variables contain arrays or references to arrays?\n",
        "\n",
        "A:\n",
        "\n",
        "16.  If I have an array `int newArray[] = {1, 2, 3, 4, 5, 6, 7};` and set `newerArray` equal to it, then change `newArray[6]` to be 2, what will the value of `newerArray[6]` be, and why?\n",
        "\n",
        "A:\n",
        "\n",
        "17. What do you have to do if you want to make a distinct copy of an array that won't be updated when the original array is updated?\n",
        "\n",
        "A:\n",
        "\n",
        "18.  How would you use a method in `java.util.Arrays` to copy an array quickly, without a loop?  Write out the code for copying the contents of array `storm`, which contains 5 elements into array `monsoon`.\n",
        "\n",
        "A: \n",
        "```\n",
        "\n",
        "```\n",
        "\n",
        "19.  What is `.length` and what does it do?  Why doesn't it end with `()`'s?\n",
        "\n",
        "A:\n",
        "\n",
        "20. Write a one line statement to copy array `lake` which has an unknown number of elements, to a new array called `ocean`, using `Arrays.copyOf`.\n",
        "\n",
        "A:\n",
        "```\n",
        "\n",
        "```\n",
        "\n",
        "21. What do `Arrays.compare`, `Arrays.equals`, `Arrays.fill`, and `Arrays.sort` each do?\n",
        "\n",
        "A:\n",
        "\n",
        "22. What is looping through the elements of an array called?\n",
        "\n",
        "A:\n",
        "\n",
        "23.  What is a counter?  In the code presented in the book, why would we have to store 100 of them?\n",
        "\n",
        "A:\n",
        "\n",
        "24.  Explain why\n",
        "\n",
        "```\n",
        "int[] counts = new int[100];\n",
        "for (int i = 0; i < scores.length; i++) {\n",
        "    int index = scores[i];\n",
        "    counts[index]++;\n",
        "}\n",
        "```\n",
        "is more efficient than\n",
        "\n",
        "```\n",
        "int[] counts = new int[100];\n",
        "for (int i = 0; i < counts.length; i++) {\n",
        "    counts[i] = inRange(scores, i, i + 1);\n",
        "}\n",
        "```\n",
        "\n",
        "A:\n",
        "\n",
        "25: Write an example of an enhanced for loop.\n",
        "\n",
        "A:\n",
        "```\n",
        "\n",
        "```\n",
        "\n",
        "26. While working with arrays when are enhanced for loops not as helpful as normal for loops?\n",
        "\n",
        "A:\n",
        "\n",
        "27. What does the enhanced for loop in the example code right before the vocab section actually do?\n",
        "\n",
        "A:\n",
        "\n"
      ]
    },
    {
      "cell_type": "markdown",
      "metadata": {
        "id": "cNwhk8SmWqS_"
      },
      "source": [
        "#Exercises\n",
        "Please complete the exercise below! Feel free to do any of the other exercises in the chapter and include them here as well. I'm happy to help you troubleshoot any additional work."
      ]
    },
    {
      "cell_type": "markdown",
      "metadata": {
        "id": "wttRkTF_WMOS"
      },
      "source": [
        "#IndexOfMax (modified)\n",
        "\n",
        "* Write a class called `IndexOfMax` that takes a series of 20 numbers as input and reads them into an array.\n",
        "\n",
        "* Then iterate over your array to find the index of the array's largest element (find the biggest number the user entered) and print the number and its index.\n",
        "\n",
        "* Can you write this method by using an enhanced for loop? Why or why not?\n"
      ]
    },
    {
      "cell_type": "code",
      "metadata": {
        "id": "_-_5OTfCYluK"
      },
      "source": [
        "%%writefile IndexOfMax.java\n",
        "import java.util.Scanner;\n",
        "\n",
        "public class IndexOfMax{\n",
        "    public static void main(String [] args) {\n",
        "        Scanner in = new Scanner(System.in);\n",
        "\n",
        "        // you don't need to use any of the variables below. They're just suggestions for one way of solving this problem\n",
        "        int [] numbers = new int[20];\n",
        "        int input = 0;\n",
        "        int biggestNumberIndex = 0;\n",
        "        int currentBiggest = 0;\n",
        "\n",
        "        // you will want some sort of a loop here\n",
        "\n",
        "            // and likely an if statement imbedded in it\n",
        "\n",
        "    }\n",
        "}"
      ],
      "execution_count": null,
      "outputs": []
    },
    {
      "cell_type": "code",
      "metadata": {
        "id": "pjUoY8gGYmOR"
      },
      "source": [
        "!javac IndexOfMax.java\n",
        "!echo -e \"1\\n5\\n7\\n6\\n1000\\n300\\n9000\\n200000\\n30000000\\n400\\n11\\n15\\n17\\n16\\n166\\n342\\n98888\\n2999\\n3898\\n4666\" > test\n",
        "!java IndexOfMax < test"
      ],
      "execution_count": null,
      "outputs": []
    }
  ]
}