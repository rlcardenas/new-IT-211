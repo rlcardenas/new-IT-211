{
  "nbformat": 4,
  "nbformat_minor": 0,
  "metadata": {
    "colab": {
      "name": "Read Chapter 2 - Variables and Operators.ipynb",
      "private_outputs": true,
      "provenance": [],
      "collapsed_sections": [],
      "authorship_tag": "ABX9TyPENcobBK8urRIJA396gwzW",
      "include_colab_link": true
    },
    "kernelspec": {
      "name": "python3",
      "display_name": "Python 3"
    }
  },
  "cells": [
    {
      "cell_type": "markdown",
      "metadata": {
        "id": "view-in-github",
        "colab_type": "text"
      },
      "source": [
        "<a href=\"https://colab.research.google.com/github/nic-instruction/IT-211/blob/main/Chapter_Questions/Read_Chapter_2_Variables_and_Operators.ipynb\" target=\"_parent\"><img src=\"https://colab.research.google.com/assets/colab-badge.svg\" alt=\"Open In Colab\"/></a>"
      ]
    },
    {
      "cell_type": "markdown",
      "metadata": {
        "id": "ixe7yw4GepMQ"
      },
      "source": [
        "Read Chapter 2 of Think Java, 2nd Edition, answer questions 1-17 and complete labs 2-2 OR 2-3 in a copy of this notebook. Space, structure, and additional info will be provided for the labs in this notebook, but the overall instructions will be in the book towards the end of Chapter.\n",
        "\n",
        "Chapter 2: https://learning.oreilly.com/library/view/think-java-2nd/9781492072492/ch02.html\n",
        "\n",
        "\n",
        "Don't worry if the concepts in this chapter don't make sense yet, they will become familiar by the end of class, I promise!\n",
        "\n",
        "Reminder: to edit a text block or a code block you can double click on it, or hover over it and press the pencil in the upper right hand corner.\n",
        "\n",
        "Note: to complete the two labs you will need to work with codeblocks in your copy of the notebook.\n",
        "\n",
        "Please save frequently! I don't want you to lose your work. Go to File > Save. The first time you do this it will tell you it is making a copy. Say yes that you want to save the changes to your copy.\n",
        "When you're done, save your notebook (File > Save) and then save a copy of your notebook to GitHub (File > Save to GitHub).\n",
        "Send me the link to your file in GitHub to complete this assignment.\n",
        "\n",
        "*If you get stuck, ask on Slack!*"
      ]
    },
    {
      "cell_type": "markdown",
      "metadata": {
        "id": "wHgQ4zf4fl64"
      },
      "source": [
        "#Questions\n",
        "\n",
        "1. What is a variable?\n",
        "\n",
        "A:\n",
        "\n",
        "2. What is an operator?  List four examples (we covered this in class, but if the answer isn't coming to you, you can find examples later in the chapter).\n",
        "\n",
        "A: \n",
        "\n",
        "3. How do you declare multiple variables at once?\n",
        "\n",
        "A:\n",
        "```\n",
        "// Put your answer to question 3 on the blank line below so that it is formatted correctly:\n",
        "\n",
        "\n",
        "```\n",
        "\n",
        "4. What are the 'case' (upper and lower case) conventions for variable names?  How do they differ from Class names?\n",
        "\n",
        "A:\n",
        "\n",
        "5. When you declare a variable, what are you doing in memory (storage)?\n",
        "\n",
        "A:\n",
        "\n",
        "6. When you assign a variable, what are you putting in that storage (memory) space?\n",
        "\n",
        "A:\n",
        "\n",
        "7. What is a program's 'state'?\n",
        "\n",
        "A:\n",
        "\n",
        "8. How do you display the name of a variable instead of its value?\n",
        "\n",
        "A:\n",
        "\n",
        "9. What is an expression?\n",
        "\n",
        "A:\n",
        "\n",
        "10. What is an operand?  \n",
        "\n",
        "A:\n",
        "\n",
        "11.  If you want to perform division that will result in decimals, what datatype should you use?\n",
        "\n",
        "A:\n",
        "\n",
        "12. Assigning a value to a double this way `double y = 1 / 16;` is incorrect, what is the correct way to assign it?\n",
        "\n",
        "A:\n",
        "\n",
        "13. Float-point numbers round, which is fine for most things, but if you need absolute precision in your numbers, with no rounding, what does the book recommend doing?\n",
        "\n",
        "A:\n",
        "\n",
        "14. What will the + operator do when put between two Strings (not ints)?\n",
        "\n",
        "```\n",
        "Example: \n",
        "String hi = \"Hi there\"; \n",
        "String bang = \"!\";\n",
        "String hello = hi + bang;\n",
        "\n",
        "```\n",
        "\n",
        "What would the value of `hello` be?\n",
        "\n",
        "A:\n",
        "\n",
        "15. How do you override the order of operations?\n",
        "\n",
        "A:\n",
        "\n",
        "16. What are the three kinds of errors?\n",
        "\n",
        "A:\n",
        "\n",
        "17. Define the three kinds of errors and say when they occur.\n",
        "\n",
        "A:\n",
        "\n",
        "\n"
      ]
    },
    {
      "cell_type": "markdown",
      "metadata": {
        "id": "Eo-YG1Yl6pKY"
      },
      "source": [
        "#Labs - You only have to do one!\n",
        "\n",
        "Please note, you do not need to do both labs, only one or the other!!  Choose either 2-2 or 2-3 to complete below.  You are, of course welcome to do both if you want the practice, but I don't want to snow you with work.  "
      ]
    },
    {
      "cell_type": "markdown",
      "metadata": {
        "id": "N84OPA4gypE4"
      },
      "source": [
        "#Exercise 2-2 (Lab)\n",
        "\n",
        "Find and read the instructions for Exercise 2-2 towards the end of Chapter 2.  Though the book asks you to work from scratch, I have provided some starting code below.  If you get stuck, or have any questions, let me know!  You do not need to use my starting code if you don't want to.  There are many ways to solve this problem."
      ]
    },
    {
      "cell_type": "code",
      "metadata": {
        "id": "rsFKw3dezMTb"
      },
      "source": [
        "%%writefile Date.java\n",
        "// Note that we can set variables manually in this program instead of taking input from a user or a text file\n",
        "// So we don't need to import Scanner\n",
        "public class Date {\n",
        "    public static void main (String [] args) {\n",
        "        String day;           // Put an = after day to assign a value to it.  Day should contain the current day of the week (like Friday).\n",
        "        String date;          // Put an = after date to assign a value to it.  date will contain the current day of the month (like the 13th).\n",
        "        String month;         // Put an = after month to assign a value to it.  month will contain the current month.\n",
        "        String year;          // Put an = after year to assign a value to it.  year will contain the current year.\n",
        "\n",
        "        // Modify this println output to display today's date when printed.  You can use text to explain it.  \n",
        "        // Remember that text will go in quotes \"like this\" and you can add variable values to it like this:\n",
        "        // \"today is \" + day + \"it is a good day.\"  When you're done, make sure it compiles and runs before moving on.\n",
        "        System.out.println(\" \");\n",
        "\n",
        "        // Now output the date in the standard american format, for example: Thursday, July 18, 2019.\n",
        "        System.out.println(\" \");\n",
        "\n",
        "        // Now print the date in the standard european format, for example: Thursday 18 July 2019\n",
        "        System.out.println(\" \");\n",
        "\n",
        "      \n",
        "    }\n",
        "\n",
        "}"
      ],
      "execution_count": null,
      "outputs": []
    },
    {
      "cell_type": "code",
      "metadata": {
        "id": "KO2E3dzP2fJK"
      },
      "source": [
        "!javac Date.java\n",
        "!java Date"
      ],
      "execution_count": null,
      "outputs": []
    },
    {
      "cell_type": "markdown",
      "metadata": {
        "id": "ezZF8AcK3BBZ"
      },
      "source": [
        "#Exercise 2-3 (Lab)\n",
        "\n",
        "Find and read the instructions for Exercise 2-3 towards the end of Chapter 2. Though the book asks you to work from scratch, I have provided some starting code below. If you get stuck, or have any questions, let me know! You do not need to use my starting code if you don't want to. There are many ways to solve this problem"
      ]
    },
    {
      "cell_type": "code",
      "metadata": {
        "id": "aJraTKWb3OaQ"
      },
      "source": [
        "%%writefile Time.java\n",
        "// Note that we can set variables manually in this program instead of taking input from a user or a text file\n",
        "// So we don't need to import Scanner\n",
        "public class Time {\n",
        "    public static void main (String [] args) {\n",
        "        String hour;             // Use an = sign to assign the current hour to this variable.  \n",
        "        String minute;           // Use an = sign to assign the current minute to this variable.  Use a 24-hour clock so that at 2 p.m. the value of hour is 14.\n",
        "        String second;           // Use an = sign to assign the current second to this variable.\n",
        "\n",
        "        // The code for printing hour and minute, and for calculating hour of minutes since midnight can be found here:\n",
        "        // It uses the same vars, so you should be able to cp/paste.  https://learning.oreilly.com/library/view/Think+Java,+2nd+Edition/9781492072492/ch02.html#sec..printvar\n",
        "\n",
        "\n",
        "        // Make sure you run and compile the above then implement ONE of the following (you can implement more if you want, but you don't have to).\n",
        "        // 1) Calculate and display the number of seconds remaining in the day.\n",
        "        // 2) Calculate and display the percentage of the day that has passed. You might run into problems when computing percentages with integers, so consider using floating-point.\n",
        "        // 3) Change the values of hour, minute, and second to reflect the current time. Then write code to compute the elapsed time since you started working on this exercise.\n",
        "        // If you get stuck, ask me questions on Slack!  And let me know about the difficulty of these assignments as well. \n",
        "             \n",
        "\n",
        "\n",
        "    }\n",
        "}"
      ],
      "execution_count": null,
      "outputs": []
    },
    {
      "cell_type": "code",
      "metadata": {
        "id": "Ok2Gpp825tQ6"
      },
      "source": [
        "!javac Time.java\n",
        "!java Time"
      ],
      "execution_count": null,
      "outputs": []
    },
    {
      "cell_type": "markdown",
      "metadata": {
        "id": "6hJv7hCSe0tX"
      },
      "source": [
        "#Reminder\n",
        "\n",
        "* When you're done, save your notebook (File > Save) and then save a copy of your notebook to your IT-211 GitHub (File > Save to GitHub).\n",
        "* Send me the link to your file in GitHub to complete this assignment.\n",
        "* If you get stuck, ask on Slack!"
      ]
    }
  ]
}