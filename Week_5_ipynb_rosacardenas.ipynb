{
  "nbformat": 4,
  "nbformat_minor": 0,
  "metadata": {
    "colab": {
      "name": " Week-5.ipynb-rosacardenas",
      "private_outputs": true,
      "provenance": [],
      "collapsed_sections": [],
      "include_colab_link": true
    },
    "kernelspec": {
      "name": "python3",
      "display_name": "Python 3"
    }
  },
  "cells": [
    {
      "cell_type": "markdown",
      "metadata": {
        "id": "view-in-github",
        "colab_type": "text"
      },
      "source": [
        "<a href=\"https://colab.research.google.com/github/rlcardenas/new-IT-211/blob/main/Week_5_ipynb_rosacardenas.ipynb\" target=\"_parent\"><img src=\"https://colab.research.google.com/assets/colab-badge.svg\" alt=\"Open In Colab\"/></a>"
      ]
    },
    {
      "cell_type": "markdown",
      "metadata": {
        "id": "cHqOEOROr1az"
      },
      "source": [
        "Topics for notes:\n",
        "-Arrays basic\n",
        "\n",
        "-Delcaring and accessing elements\n",
        "\n",
        "-Loops and arrays\n",
        "\n",
        "-Iterating through arrays\n",
        "\n",
        "-Enums\n",
        "\n",
        "-Nested Loops\n"
      ]
    },
    {
      "cell_type": "markdown",
      "metadata": {
        "id": "PE8z88yT_AIx"
      },
      "source": [
        ""
      ]
    },
    {
      "cell_type": "code",
      "metadata": {
        "id": "hO3fxxiO_C-K"
      },
      "source": [
        "%%writefile Arrays.java\n",
        "import java.util.ArrayList;\n",
        "\n",
        "\n",
        "public class Arrays{ // a built-in array. Any datatype can be made into an array. \n",
        "    public static void main(String [] args){\n",
        "        int [] intArray = new int[5];\n",
        "        char [] charArray = new char[26];\n",
        "        double [] doubleArray = new double[40];\n",
        "        String [] stringArray = new String[20];\n",
        "        long [] longArray = new long[50];\n",
        "\n",
        "        char [] myCharArray = new char[26];\n",
        "        myCharArray[0] = 'a';\n",
        "        myCharArray[1] = 'b';\n",
        "        char letter = 'a';\n",
        "        System.out.println(myCharArray[0]);\n",
        "\n",
        "        for (int i = 0; i < 26 ; i++){\n",
        "            myCharArray[i] = letter;\n",
        "            //System.out.println(\"my int value is \" + i + \" my char value is \" + letter);\n",
        "            letter++;\n",
        "            //System.out.print(\" \" + myCharArray[i] + \",\");\n",
        "        }\n",
        "\n",
        "        while (letter <= 'z'){\n",
        "            System.out.println(letter);\n",
        "            letter++;\n",
        "            \n",
        "        }\n",
        "        //for (int )\n",
        "    }\n",
        "}\n",
        "\n",
        "//datatype [] variableName;\n",
        "//datatype [] variableName = new datatype[length]\n",
        "\n",
        "\n"
      ],
      "execution_count": null,
      "outputs": []
    },
    {
      "cell_type": "code",
      "metadata": {
        "id": "r4kfObBw_Ybm"
      },
      "source": [
        "!javac Arrays.java\n",
        "!java Arrays"
      ],
      "execution_count": null,
      "outputs": []
    },
    {
      "cell_type": "code",
      "metadata": {
        "id": "o3p7uqgN_er8"
      },
      "source": [
        "%%writefile Demo.java\n",
        "import java.util.Scanner;\n",
        "\n",
        "public class Demo {\n",
        "    public static void main (String[] args) {\n",
        "        Scanner in = new Scanner(System.in);\n",
        "        String [] input = new String [50];\n",
        "        int i = 0;\n",
        "\n",
        "        while(in.hasNextLine()){\n",
        "            String myString = in.nextLine();\n",
        "            input[i] = myString;\n",
        "            System.out.println(\"index: \" + i + \" myString: \" + myString);\n",
        "            i++;\n",
        "        }\n",
        "\n",
        "    }\n",
        "}"
      ],
      "execution_count": null,
      "outputs": []
    },
    {
      "cell_type": "code",
      "metadata": {
        "id": "Cla90Dxs_l3B"
      },
      "source": [
        "!javac Demo.java\n",
        "!echo -e \"some\\nthing\\nis\\nhere\" > test\n",
        "!java Demo < test"
      ],
      "execution_count": null,
      "outputs": []
    },
    {
      "cell_type": "code",
      "metadata": {
        "id": "77qffcWZ1cjm"
      },
      "source": [
        "\n",
        "%%writefile Arrays.java\n",
        "public class Arrays{\n",
        "    public static void main(String [] args){\n",
        "        String [] fruit = {\"apple\", \"orange\", \"peach\", \"pineapple\", \"dragon fruit\"};\n",
        "        int [] range = {1, 2, 3, 4, 5, 6, 7, 8, 9};\n",
        "        int [] rangeMultiplied = new int [9];\n",
        "        String [] fruit2 = fruit;\n",
        "\n",
        "\n",
        "        System.out.println(\"the value at index 0 for fruit is \" + fruit[0] + \" the value at index 0 for fruit 2 is \" + fruit2[0]);\n",
        "\n",
        "\n",
        "        fruit2 = fruit;\n",
        "        fruit[0] = \"popcorn\";\n",
        "\n",
        "        System.out.println(\"the value at index 0 for fruit is \" + fruit[0] + \" the value at index 0 for fruit 2 is \" + fruit2[0]);\n",
        "\n",
        "        fruit2[3] = \"race car\";\n",
        "\n",
        "        System.out.println(\"the value at index 0 for fruit is \" + fruit[3] + \" the value at index 0 for fruit 2 is \" + fruit2[3]);\n",
        "\n",
        "        String cities = \"Seattle, Tacoma, Pitsburg, Dallas\";\n",
        "        String [] citiesArr = cities.split(\", \");\n",
        "        //split on |,*:\n",
        "\n",
        "        for (String i : citiesArr){\n",
        "            System.out.println(i);\n",
        "        }\n",
        "\n",
        "        //for each\n",
        "        for (int value : range){ //for small arrays use these nested for loops\n",
        "           // System.out.println(value);\n",
        "            for (int i = 0; i < 9; i++){\n",
        "                //System.out.println(\"outer loop var: \" + value + \" inner loop var (i): \" + i);\n",
        "                \n",
        "            }\n",
        "        }\n",
        "\n",
        "        for (int i = 0; i < 9; i++){\n",
        "            int myValue = range[i];\n",
        "            System.out.println(myValue);\n",
        "        }\n",
        "\n",
        "\n",
        "        for (String item : fruit){\n",
        "            System.out.println(item);\n",
        "        }\n",
        "\n",
        "        System.out.println(\"Array range: \" + range + \" Array fruit: \" + fruit);\n",
        "    }\n",
        "}"
      ],
      "execution_count": null,
      "outputs": []
    },
    {
      "cell_type": "code",
      "metadata": {
        "id": "buKskJWK1e-n"
      },
      "source": [
        "!javac Arrays.java\n",
        "!java Arrays"
      ],
      "execution_count": null,
      "outputs": []
    },
    {
      "cell_type": "markdown",
      "metadata": {
        "id": "aGxoZ9jp7N0G"
      },
      "source": [
        "Homework review"
      ]
    },
    {
      "cell_type": "code",
      "metadata": {
        "id": "zCUXN6b77NMn"
      },
      "source": [
        ""
      ],
      "execution_count": null,
      "outputs": []
    },
    {
      "cell_type": "markdown",
      "metadata": {
        "id": "bX3owrT9-wv3"
      },
      "source": [
        "class lab \n"
      ]
    },
    {
      "cell_type": "code",
      "metadata": {
        "id": "2QmQz8xy_Q4X"
      },
      "source": [
        "%%writefile WordFrequencies.java\n",
        "import java.util.Scanner; \n",
        "\n",
        "public class WordFrequencies {\n",
        "   public static void main(String[] args) {\n",
        "     Scanner in = new Scanner(%system.in);\n",
        "     int wordCount = in.nextInt();\n",
        "     String [] words = new String [wordCount];\n",
        "     int [] count = new int [wordCount];\n",
        "\n",
        "   }\n",
        "\n",
        "   for (int i = 0; i < words.length; i++) {\n",
        "       String word = in.nextline();\n",
        "       words[i] = words;\n",
        "   }\n",
        "   // iterate over the array and count the words that come up twice\n",
        "\n",
        "   for (string a : words) {\n",
        "       // this is going to give us every word in the string in a variable called a.\n",
        "       for (int i = 0; i <words.length; i++){\n",
        "\n",
        "            if (a.equals(words[i])){\n",
        "                int inc = 0;\n",
        "                count [inc]++;\n",
        "            }\n",
        "       }\n",
        "   }\n",
        "   \n",
        "}"
      ],
      "execution_count": null,
      "outputs": []
    },
    {
      "cell_type": "code",
      "metadata": {
        "id": "o1zKeoJx-1PM"
      },
      "source": [
        "!javac wordfrequencies .java\n",
        "!echo -e \"13\\nI\\nan\\na\\\"\n"
      ],
      "execution_count": null,
      "outputs": []
    },
    {
      "cell_type": "markdown",
      "metadata": {
        "id": "CER-3tJ3Dotl"
      },
      "source": [
        "You only need to run the code below if you want to use Java 12. You won't need the special new properties of Java 12 for most of the class, but be aware that our GitHub Classroom tests run on Java 12."
      ]
    },
    {
      "cell_type": "code",
      "metadata": {
        "id": "jT9yfcqCDeC5"
      },
      "source": [
        "!sudo add-apt-repository ppa:openjdk-r/ppa -y\n",
        "!sudo apt-get update -y -q\n",
        "!sudo apt-get install openjdk-12-jre-headless -y -q\n",
        "!echo \"0\" | sudo update-alternatives --config java\n",
        "!java -version"
      ],
      "execution_count": null,
      "outputs": []
    }
  ]
}