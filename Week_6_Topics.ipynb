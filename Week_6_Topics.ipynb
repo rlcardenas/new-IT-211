{
  "nbformat": 4,
  "nbformat_minor": 0,
  "metadata": {
    "colab": {
      "name": "Week 6 Topics.ipynb",
      "private_outputs": true,
      "provenance": [],
      "collapsed_sections": [],
      "authorship_tag": "ABX9TyNDjvN5CceZnWC5ulCE06FC",
      "include_colab_link": true
    },
    "kernelspec": {
      "name": "python3",
      "display_name": "Python 3"
    }
  },
  "cells": [
    {
      "cell_type": "markdown",
      "metadata": {
        "id": "view-in-github",
        "colab_type": "text"
      },
      "source": [
        "<a href=\"https://colab.research.google.com/github/nic-instruction/IT-211/blob/main/Week_6_Topics.ipynb\" target=\"_parent\"><img src=\"https://colab.research.google.com/assets/colab-badge.svg\" alt=\"Open In Colab\"/></a>"
      ]
    },
    {
      "cell_type": "markdown",
      "metadata": {
        "id": "dMhZprltfceB"
      },
      "source": [
        "# Giving You My Notes!\n",
        "Since it's a very short week and we hava lot to cover, I'm giving you my notes for week 6.  Please augment them with your own notes.  Generally, I feel like it's better for you to take your own notes, but hopefully this will be helpful."
      ]
    },
    {
      "cell_type": "markdown",
      "metadata": {
        "id": "u4U-AHbH4igX"
      },
      "source": [
        "# Methods and Recursive Methods\n",
        "* User defined method basics\n",
        "* Parameters and arguments\n",
        "* Return statements\n",
        "* Scope of variable and method definitions\n",
        "* Method overloading\n",
        "* Recursive Methods\n",
        "* Unit testing (eclipse)"
      ]
    },
    {
      "cell_type": "markdown",
      "metadata": {
        "id": "mmoMDES_3YUt"
      },
      "source": [
        "Awesome book resource for visualization: http://pythontutor.com/java.html#mode=edit\n"
      ]
    },
    {
      "cell_type": "markdown",
      "metadata": {
        "id": "CLEB3PBF-5e7"
      },
      "source": [
        "# User Defined Method Basics\n",
        "\n",
        "\n",
        "* We've already worked with a method: **main**\n",
        "* We know it is a **static** method.  Which we also know means that we can invoke it (use it) without creating and instance of the class (object).  This means static methods run faster.  They are generally used as utilities.  For simple methods that take variables, do some processing, and do not rely on other class behaviors, static methods are the way to go.  We will be using **public static** methods here for easy demoing purposes.  Please note that many of the methods you write out in the wild (industry) will not be public static, and that the way you call a public static method is different than the way you call other kinds of methods.  \n",
        "* The keyword **void** is used for methods that do a thing instead of returning a thing, like main running all the code inside it, or like `System.out.println()`, that prints your output.\n",
        "* Otherwise, the data type returned is specified in place of void, for example: `double` in **public static double addFloat(double x, double y)**.  \n",
        "   * In this case the method is public and static, meaning it can be called by other classes (public), without creating a new instance of the class (static).\n",
        "   * It takes two **doubles** as **input** (**arguments**), which are internally assigned to the variables **x** and **y**.  **x** and **y** have meaning and value within the method, but not outside it, similar to **i** in a for loop.\n",
        "   * It **returns** a **double**.\n",
        "* Example:\n",
        "\n",
        "```java\n",
        "\n",
        "public static void main(String [] args) {\n",
        "    double firstDouble = 3.55;\n",
        "    double secondDouble = 4.66;\n",
        "    double firstPlusSecond = addFloat(firstDouble, secondDouble);\n",
        "}\n",
        "\n",
        "public static double addFloat(double x, double y) {\n",
        "    return (x + y);\n",
        "}\n",
        "\n",
        "```\n",
        "* To avoid confusion, we'll start by making everyting public static.  As noted above, this is a good intro to the concepts, but not standard practice in industry.  That said, some dev methods start by making as many methods as possible public static to do a proof of concept before reassigning permissions.\n",
        "\n",
        "\n",
        "* Public means it can be called from any class.  These methods would be perfectly functional without 'public' if they only needed to be called within their class, for example:\n",
        "\n",
        "\n",
        "\n"
      ]
    },
    {
      "cell_type": "code",
      "metadata": {
        "id": "FKx7DOFwIHFH"
      },
      "source": [
        "%%writefile NonPublicMethodInsideSameClass.java\n",
        "public class NonPublicMethodInsideSameClass{\n",
        "    public static void main(String [] args) {\n",
        "        double firstDouble = 3.55;\n",
        "        double secondDouble = 4.66;\n",
        "        double firstPlusSecond = addFloat(firstDouble, secondDouble);\n",
        "        System.out.println(firstPlusSecond);\n",
        "        double macAndCheese = 10.11;\n",
        "        double rubberDuck = 30.33;\n",
        "        System.out.println(addFloat(macAndCheese, rubberDuck));\n",
        "    }\n",
        "\n",
        "\n",
        "    static double addFloat(double x, double y) {\n",
        "        return (x + y);\n",
        "    }\n",
        "}"
      ],
      "execution_count": null,
      "outputs": []
    },
    {
      "cell_type": "code",
      "metadata": {
        "id": "ZZYv-J6SIbDk"
      },
      "source": [
        "!javac NonPublicMethodInsideSameClass.java \n",
        "!java NonPublicMethodInsideSameClass"
      ],
      "execution_count": null,
      "outputs": []
    },
    {
      "cell_type": "markdown",
      "metadata": {
        "id": "1azM6HwTEmcL"
      },
      "source": [
        "# Method Overloading\n",
        "* Sounds fancy and terrifying, actually just means writing a method so it can take multiple kinds of input.  For example, this is method overloading of `doubleMe`:\n",
        "\n",
        "```java\n",
        "public static int doubleMe(int b) {\n",
        "    return (b + b);\n",
        "}\n",
        "\n",
        "public static String doubleMe(String b) {\n",
        "    return (b + \" \" + b); // Note, this will concatonate the strings together with a space between them.\n",
        "}\n",
        "\n",
        "public static double doubleMe(double b) {\n",
        "    return (b + b);\n",
        "}\n",
        "\n",
        "public static long doubleMe(long b) {\n",
        "    return (b + b);\n",
        "}\n",
        "\n",
        "```"
      ]
    },
    {
      "cell_type": "code",
      "metadata": {
        "id": "1CZcgKq4FSno"
      },
      "source": [
        "%%writefile FlowOfExecution.java\n",
        "class MyMethods{\n",
        "    public static int doubleMe(int b) {\n",
        "        return (b + b);\n",
        "    }\n",
        "        \n",
        "    public static String doubleMe(String b) {\n",
        "        return (b + \" \" + b); // Note, this will concatonate the strings together with a space between them.\n",
        "    }\n",
        "        \n",
        "    public static double doubleMe(double b) {\n",
        "        return (b + b);\n",
        "    }\n",
        "        \n",
        "    public static long doubleMe(long b) {\n",
        "        return (b + b);\n",
        "    }\n",
        "}\n",
        "\n",
        "public class FlowOfExecution{\n",
        "    public static void main(String [] args) {\n",
        "        int intNum        = 5;\n",
        "        String stringWord = \"NOW\";\n",
        "        double doubleNum  = 10.404;\n",
        "\n",
        "        System.out.println(\"Passing already declared variables to MyMethods.doubleMe()\");\n",
        "        System.out.println(MyMethods.doubleMe(intNum));\n",
        "        System.out.println(MyMethods.doubleMe(stringWord));\n",
        "        System.out.println(MyMethods.doubleMe(doubleNum) + \"\\n\");\n",
        "        \n",
        "        System.out.println(\"Passing raw numbers 8, raw string \\\"NOW NOW NOW!!!\\\" and raw float 3.14 to MyMethods.doubleMe()\");\n",
        "        System.out.println(MyMethods.doubleMe(8));\n",
        "        System.out.println(MyMethods.doubleMe(\"NOW NOW NOW!!!\"));\n",
        "        System.out.println(MyMethods.doubleMe(3.14) + \"\\n\");\n",
        "\n",
        "        System.out.println(\"Passing already declared variables to (non-public/static) MyNonPublicMethods.doubleMe()\");\n",
        "        System.out.println(MyNonPublicMethods.doubleMe(intNum));\n",
        "        System.out.println(MyNonPublicMethods.doubleMe(stringWord));\n",
        "        System.out.println(MyNonPublicMethods.doubleMe(doubleNum));\n",
        "        \n",
        "    }\n",
        "}\n",
        "\n",
        "\n",
        "class MyNonPublicMethods{\n",
        "    static int doubleMe(int b) {\n",
        "        return (b + b);\n",
        "    }\n",
        "        \n",
        "    static String doubleMe(String b) {\n",
        "        return (b + \" \" + b); // Note, this will concatonate the strings together with a space between them.\n",
        "    }\n",
        "        \n",
        "    static double doubleMe(double b) {\n",
        "        return (b + b);\n",
        "    }\n",
        "        \n",
        "    static long doubleMe(long b) {\n",
        "        return (b + b);\n",
        "    }\n",
        "}"
      ],
      "execution_count": null,
      "outputs": []
    },
    {
      "cell_type": "code",
      "metadata": {
        "id": "dzNzF8AnFa2M"
      },
      "source": [
        "!javac FlowOfExecution.java\n",
        "!java FlowOfExecution"
      ],
      "execution_count": null,
      "outputs": []
    },
    {
      "cell_type": "code",
      "metadata": {
        "id": "37crcwgvH5zK"
      },
      "source": [
        "%%writefile OtherClasses.java\n",
        "public class OtherClasses{\n",
        "    public static void main(String [] args) {\n",
        "        System.out.println(PackagePrivate.doubleMe(8));\n",
        "        System.out.println(PackagePrivate.doubleMe(\"NOW NOW NOW!!!\"));\n",
        "        System.out.println(PackagePrivate.doubleMe(3.14));\n",
        "        \n",
        "    }\n",
        "}\n",
        "\n",
        "// if a class isn't public or private it can only be used by other classes in the same package\n",
        "class PackagePrivate {\n",
        "    static int doubleMe(int b) {\n",
        "        return (b + b);\n",
        "    }\n",
        "        \n",
        "    static String doubleMe(String b) {\n",
        "        return (b + \" \" + b); // Note, this will concatonate the strings together with a space between them.\n",
        "    }\n",
        "        \n",
        "    static double doubleMe(double b) {\n",
        "        return (b + b);\n",
        "    }\n",
        "        \n",
        "    static long doubleMe(long b) {\n",
        "        return (b + b);\n",
        "    }\n",
        "    \n",
        "}"
      ],
      "execution_count": null,
      "outputs": []
    },
    {
      "cell_type": "code",
      "metadata": {
        "id": "pRslNFZnOgtU"
      },
      "source": [
        "!javac OtherClasses.java\n",
        "!java OtherClasses"
      ],
      "execution_count": null,
      "outputs": []
    },
    {
      "cell_type": "code",
      "metadata": {
        "id": "JgZ0TKEAOw5r"
      },
      "source": [
        "%%writefile PrepareForError.java\n",
        "public class PrepareForError{\n",
        "    public static void main(String [] args) {\n",
        "        System.out.println(WillCauseTheError.doubleMe(8));\n",
        "        System.out.println(WillCauseTheError.doubleMe(\"NOW NOW NOW!!!\"));\n",
        "        System.out.println(WillCauseTheError.doubleMe(3.14));\n",
        "        \n",
        "    }\n",
        "}\n",
        "\n",
        "public class WillCauseTheError{\n",
        "    static int doubleMe(int b) {\n",
        "        return (b + b);\n",
        "    }\n",
        "        \n",
        "    static String doubleMe(String b) {\n",
        "        return (b + \" \" + b); // Note, this will concatonate the strings together with a space between them.\n",
        "    }\n",
        "        \n",
        "    static double doubleMe(double b) {\n",
        "        return (b + b);\n",
        "    }\n",
        "        \n",
        "    static long doubleMe(long b) {\n",
        "        return (b + b);\n",
        "    }\n",
        "    \n",
        "}"
      ],
      "execution_count": null,
      "outputs": []
    },
    {
      "cell_type": "code",
      "metadata": {
        "id": "cNFY5dmAOwup"
      },
      "source": [
        "!javac PrepareForError.java\n",
        "!java PrepareForError"
      ],
      "execution_count": null,
      "outputs": []
    },
    {
      "cell_type": "code",
      "metadata": {
        "id": "lbQWarIrP7zs"
      },
      "source": [
        "%%writefile WillRunTheClassNow.java\n",
        "public class WillRunTheClassNow{\n",
        "    public static void main(String [] args) {\n",
        "        System.out.println(ThisWillRun.doubleMe(8));\n",
        "        System.out.println(ThisWillRun.doubleMe(\"NOW NOW NOW!!!\"));\n",
        "        System.out.println(ThisWillRun.doubleMe(3.14));\n",
        "        \n",
        "        long myLong = 222222222222222222L;\n",
        "        ThisWillRun myObject = new ThisWillRun();\n",
        "        System.out.println(myObject.doubleMe(myLong));\n",
        "    }\n",
        "}"
      ],
      "execution_count": null,
      "outputs": []
    },
    {
      "cell_type": "code",
      "metadata": {
        "id": "_DQN0ubtQSdr"
      },
      "source": [
        "%%writefile ThisWillRun.java\n",
        "// Because java considders these to be in the same package, this will run. (We have not yet created a package)\n",
        "public class ThisWillRun{\n",
        "    static int doubleMe(int b) {\n",
        "        return (b + b);\n",
        "    }\n",
        "    \n",
        "    // add private and see what happens...\n",
        "    static String doubleMe(String b) {\n",
        "        return (b + \" \" + b); // Note, this will concatonate the strings together with a space between them.\n",
        "    }\n",
        "        \n",
        "    static double doubleMe(double b) {\n",
        "        return (b + b);\n",
        "    }\n",
        "        \n",
        "    public long doubleMe(long b) {\n",
        "        return (b + b);\n",
        "    }\n",
        "}\n"
      ],
      "execution_count": null,
      "outputs": []
    },
    {
      "cell_type": "code",
      "metadata": {
        "id": "2Ty9OxFLP7oQ"
      },
      "source": [
        "!javac WillRunTheClassNow.java ThisWillRun.java\n",
        "!java WillRunTheClassNow"
      ],
      "execution_count": null,
      "outputs": []
    },
    {
      "cell_type": "markdown",
      "metadata": {
        "id": "aE-o8H4TTlHM"
      },
      "source": [
        "# Method Parameters & Arguments\n",
        "* Good overview: https://www.w3schools.com/java/java_methods_param.asp\n",
        "* Parameters are the variables specified in the method, that are set up to take on the values of arguments passed in when the method is called.\n",
        "\n",
        "```java\n",
        "\n",
        "public static void main(String [] args){\n",
        "    String name = \"Nicole\";\n",
        "    String favFood = \"Greek salad with garlic bread\";\n",
        "    String listentingTo = \"Leanard Cohen\";\n",
        "\n",
        "    String formattedStrings = formatMe(name, favFood, listeningTo);  // arguments to formatMe are name, favFood, and ListeningTo\n",
        "}\n",
        "\n",
        "                                  param1 becomes equal to name\n",
        "                                  |          param2 becomes equal to favFood\n",
        "                                  |          |      param3 becomes equal to listeningTo\n",
        "                                  |          |       |\n",
        "public static String formatMe(String param1, String param2, String param3) {\n",
        "    String formatted;\n",
        "    // Formatting happens\n",
        "    return (formatted);\n",
        "}\n",
        "\n",
        "\n",
        "\n",
        "```"
      ]
    },
    {
      "cell_type": "markdown",
      "metadata": {
        "id": "u6wERWCeVUoe"
      },
      "source": [
        "# Return Statements\n",
        "Return statements are how methods pass info to one another when they're done. Rather than printing to output so that the user can see, methods usually will 'return' a value, which can be stored in a variable, or printed to output via `System.out.println()`, or `System.out.print` or `System.out.printf`.\n",
        "\n",
        "As implied above, `return` also exits the method.  `return` gets used a lot to exit the main method, stopping the program, without going further into the code.\n",
        "\n",
        "```java\n",
        "\n",
        "// In java you can return a value like so:\n",
        "\n",
        "return myVar;\n",
        "\n",
        "/* Putting the var or value you're returning parenthesis is also fine, \n",
        "  but not necessary. You'll notice I do this a lot while live-coding, \n",
        "  in some cases it can make the code clearer, they are never really needed.\n",
        "*/\n",
        "\n",
        "return (myVar);\n",
        "\n",
        "/* You don't have to return anything.  In this case your program will\n",
        "   simply exit the method.  For example, say someone entered invalid input,\n",
        "   you could print a nice message and return nothing.\n",
        "*/\n",
        "\n",
        "return;\n",
        "\n",
        "\n",
        "\n",
        "\n",
        "```\n"
      ]
    },
    {
      "cell_type": "markdown",
      "metadata": {
        "id": "BrpjBnHvpJ1h"
      },
      "source": [
        "# Recursive Methods\n",
        "These are methods that call themselves.  They will pretty much always contain a condition under which they will stop, if they don't, the program will exit with a stack overflow unless something else intervenes.  The condition is often expressed as an if statement.\n",
        "\n",
        "\n"
      ]
    },
    {
      "cell_type": "code",
      "metadata": {
        "id": "kOydpsem5nK7"
      },
      "source": [
        "%%writefile RecursiveMethod.java\n",
        "public class RecursiveMethod{\n",
        "    public static void main(String [] args) {\n",
        "        breakDown(\"print me!\");\n",
        "        // String myString = \"I am a string!\";\n",
        "        // int indexOfLettera = myString.indexOf(\"a\");\n",
        "\n",
        "      \n",
        "        \n",
        "    }\n",
        "\n",
        "    // Example recursive method that returns nothing, but breaks down a string into chars\n",
        "    // and prints each char.  \n",
        "\n",
        "    public static void breakDown(String a) {\n",
        "        int length = a.length();\n",
        "        if (length == 0) {\n",
        "            return;\n",
        "        } else {\n",
        "            System.out.println(a.charAt(0));\n",
        "            String newVal = a.substring(1, length);\n",
        "            breakDown(newVal);\n",
        "        }\n",
        "    }\n",
        "    \n",
        "}"
      ],
      "execution_count": null,
      "outputs": []
    },
    {
      "cell_type": "code",
      "metadata": {
        "id": "w5Z8FfHX5nBq"
      },
      "source": [
        "!javac RecursiveMethod.java\n",
        "!java RecursiveMethod"
      ],
      "execution_count": null,
      "outputs": []
    },
    {
      "cell_type": "markdown",
      "metadata": {
        "id": "0hnXUI0i5nxz"
      },
      "source": [
        "# For Homework\n",
        "\n",
        "Look up the math method for \"absolute value\".  It will be very helpful with the Max Magnitude lab."
      ]
    },
    {
      "cell_type": "markdown",
      "metadata": {
        "id": "JUbUoFOZ9aUJ"
      },
      "source": [
        "# Simple JUnit Test\n",
        "* http://tutorials.jenkov.com/java-unit-testing/simple-test.html\n",
        "* In Eclipse (right click, select Run as → JUnit test)\n",
        "* For every public method\n",
        "* Make sure to test for anomolies, such as intiger overflow and null input\n",
        "* From the book: https://learning.oreilly.com/library/view/Think+Java,+2nd+Edition/9781492072492/app01.html#idm45806636591480\n",
        "* Good, but slightly more complex JUnit demo: https://courses.cs.washington.edu/courses/cse143/11wi/eclipse-tutorial/junit.shtml\n",
        "* We'll be using this when we study packaging and Gradle."
      ]
    }
  ]
}