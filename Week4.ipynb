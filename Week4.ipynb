{
  "nbformat": 4,
  "nbformat_minor": 0,
  "metadata": {
    "colab": {
      "name": "Week4.ipynb",
      "private_outputs": true,
      "provenance": [],
      "collapsed_sections": [],
      "include_colab_link": true
    },
    "kernelspec": {
      "name": "python3",
      "display_name": "Python 3"
    }
  },
  "cells": [
    {
      "cell_type": "markdown",
      "metadata": {
        "id": "view-in-github",
        "colab_type": "text"
      },
      "source": [
        "<a href=\"https://colab.research.google.com/github/rlcardenas/new-IT-211/blob/main/Week4.ipynb\" target=\"_parent\"><img src=\"https://colab.research.google.com/assets/colab-badge.svg\" alt=\"Open In Colab\"/></a>"
      ]
    },
    {
      "cell_type": "markdown",
      "metadata": {
        "id": "7yiqcKoEDvYr"
      },
      "source": [
        "This is a place for your notes and code examples.  Here's a demo, which you should feel free to delete:\n",
        "<br>\n",
        "<br>\n",
        "<br>"
      ]
    },
    {
      "cell_type": "code",
      "metadata": {
        "id": "C1iwTduXEVFm"
      },
      "source": [
        "%%writefile MyNotes.java\n",
        "public class MyNotes {\n",
        "    public static void main (String[] args) {\n",
        "        System.out.println (\"My notes have working code in them!\");\n",
        "    }\n",
        "}"
      ],
      "execution_count": null,
      "outputs": []
    },
    {
      "cell_type": "code",
      "metadata": {
        "id": "jRzZxWlTEgN7"
      },
      "source": [
        "!javac MyNotes.java\n",
        "!java MyNotes"
      ],
      "execution_count": null,
      "outputs": []
    },
    {
      "cell_type": "markdown",
      "metadata": {
        "id": "CER-3tJ3Dotl"
      },
      "source": [
        "You only need to run the code below if you want to use Java 12. You won't need the special new properties of Java 12 for most of the class, but be aware that our GitHub Classroom tests run on Java 12."
      ]
    },
    {
      "cell_type": "code",
      "metadata": {
        "id": "jT9yfcqCDeC5"
      },
      "source": [
        "!sudo add-apt-repository ppa:openjdk-r/ppa -y\n",
        "!sudo apt-get update -y -q\n",
        "!sudo apt-get install openjdk-12-jre-headless -y -q\n",
        "!echo \"0\" | sudo update-alternatives --config java\n",
        "!java -version"
      ],
      "execution_count": null,
      "outputs": []
    },
    {
      "cell_type": "markdown",
      "metadata": {
        "id": "Yz5k0150n9XA"
      },
      "source": [
        "This is a sorting algorithm that would be useful:\r\n",
        "\r\n",
        "https://medium.com/techie-delight/top-algorithms-data-structures-concepts-every-computer-science-student-should-know-e0549c67b4ac\r\n",
        "\r\n",
        "the less cpu to run the memory the happier you are"
      ]
    },
    {
      "cell_type": "markdown",
      "metadata": {
        "id": "E--95Omwpt6T"
      },
      "source": [
        "#Loop Section of the notes\r\n",
        "\r\n",
        "Learning Objectives\r\n",
        "* loop basic\r\n",
        "* while loops\r\n",
        "* for loops\r\n",
        "* loops and strings\r\n",
        "* Nest loops\r\n",
        "* Break and continue\r\n",
        "* Enumerations\r\n",
        "\r\n",
        "A loop allows the programmer to excute a group of statements multiple times. The loop execute as long as the loop condition evaluates to true.\r\n",
        "\r\n",
        "Use the for loop to iterate through a sequence of values.\r\n",
        "\r\n",
        "For loop example down below:\r\n",
        "\r\n"
      ]
    },
    {
      "cell_type": "code",
      "metadata": {
        "id": "Brs9EAd1rJSY"
      },
      "source": [
        "for (initialization; test; increment/decrement)\r\n",
        "{\r\n",
        "    loop body statement(s)\r\n",
        "}"
      ],
      "execution_count": null,
      "outputs": []
    },
    {
      "cell_type": "markdown",
      "metadata": {
        "id": "1bwLVDYVrj_3"
      },
      "source": [
        "Here is a better example of a for loop:"
      ]
    },
    {
      "cell_type": "code",
      "metadata": {
        "id": "S0zVLRw5rnIi"
      },
      "source": [
        "%%writefile For.java\r\n",
        "public class For{\r\n",
        "    public static void main(String [] args){\r\n",
        "        String myString = \"I am a string!\";\r\n",
        "        \r\n",
        "        System.out.println(\"Letter     Position     Ascii\");\r\n",
        "        for (int i = 0; i < myString.length(); i++) {             /* first segment (int i = 0;) sets the value of i\r\n",
        "                                                                     second segment (i < myString.length();) sets the continuation conditions\r\n",
        "                                                                     third segment (i++) sets the action performed when the loop is finished\r\n",
        "                                                                  */\r\n",
        "                                                     \r\n",
        "            char charByChar = myString.charAt(i);                 /* Here we are putting the string value at position i into a char variable called\r\n",
        "            //charByChar is inputinging as an integer                                                         charBychar. Remember that chars can only hold one letter or symbol at a time.\r\n",
        "                                                                  */       \r\n",
        "            int castAscii = (int) charByChar;                     /* We are converting our character variable to an ascii code stored in the\r\n",
        "                                                                     castAscii variable.  Converting a var from one tye to another is called\r\n",
        "                                                                     \"casting\"\r\n",
        "                                                                  */\r\n",
        "            \r\n",
        "            System.out.println(\"  \" + charByChar + \"           \" + i + \"          \" + castAscii);\r\n",
        "            // If we want this printed all on the same line, we can change println to print\r\n",
        "            // See how the numbers above cause formatting issues?  We can fix that with some alignment\r\n",
        "            \r\n",
        "            // System.out.printf(\"  \" + charByChar + \"        %4d          \" + castAscii + \"%n\",i);\r\n",
        "            // What are the different formatting guidelines we're learning here?\r\n",
        "            // The even better way is to use string.format()\r\n",
        "        } \r\n",
        "    }\r\n",
        "}\r\n"
      ],
      "execution_count": null,
      "outputs": []
    },
    {
      "cell_type": "code",
      "metadata": {
        "id": "-Uv7IRLgrs8W"
      },
      "source": [
        "!javac For.java\r\n",
        "!java For"
      ],
      "execution_count": null,
      "outputs": []
    },
    {
      "cell_type": "markdown",
      "metadata": {
        "id": "xEs67EslrKHl"
      },
      "source": [
        "Here is a better example of a while loop in general: "
      ]
    },
    {
      "cell_type": "code",
      "metadata": {
        "id": "wOSsKmSwrV2z"
      },
      "source": [
        "%%writefile Loops.java\r\n",
        "public class Loops{\r\n",
        "    public static void main(String [] args){\r\n",
        "        int num  = 5;\r\n",
        "        while (num < 10) {\r\n",
        "            System.out.println(\"our var's current value is \" + num + \" on the first line of the loop\");\r\n",
        "            System.out.println(\"now we will incrememt \" + num + \" by 1\");\r\n",
        "            num ++;\r\n",
        "            System.out.println(\"now our var is equal to \" + num + \".\");\r\n",
        "            System.out.println(\"---------------------------------------------\");\r\n",
        "        }\r\n",
        "    }\r\n",
        "}"
      ],
      "execution_count": null,
      "outputs": []
    },
    {
      "cell_type": "code",
      "metadata": {
        "id": "aciZQIcsray3"
      },
      "source": [
        "!javac Loops.java\r\n",
        "!java Loops"
      ],
      "execution_count": null,
      "outputs": []
    },
    {
      "cell_type": "markdown",
      "metadata": {
        "id": "uGMedrBZreUo"
      },
      "source": [
        "Link for Char stuff:\r\n",
        "\r\n",
        "https://www.cs.cmu.edu/~pattis/15-1XX/common/handouts/ascii.html"
      ]
    },
    {
      "cell_type": "code",
      "metadata": {
        "id": "FAxdcFi1sI_Y"
      },
      "source": [
        "%%writefile ForLoop.java\r\n",
        "public class ForLoop{\r\n",
        "    public static void main(String [] args) {\r\n",
        "        for ( int count = 10; count > -10 ; count-- ){\r\n",
        "            System.out.println(\"The count is now \" + count);\r\n",
        "            \r\n",
        "        }\r\n",
        "    }\r\n",
        "}"
      ],
      "execution_count": null,
      "outputs": []
    },
    {
      "cell_type": "code",
      "metadata": {
        "id": "JmWM3Mv5tmfk"
      },
      "source": [
        "!javac ForLoop.java\r\n",
        "!java ForLoop"
      ],
      "execution_count": null,
      "outputs": []
    },
    {
      "cell_type": "markdown",
      "metadata": {
        "id": "p9Vhjv82waVZ"
      },
      "source": [
        "That sweet sweet fibonacci sequence link:\r\n",
        "\r\n",
        "https://www.mathsisfun.com/numbers/fibonacci-sequence.html\r\n",
        "\r\n",
        "below is a class exercise for the for loop with a fibonacci sequence"
      ]
    },
    {
      "cell_type": "code",
      "metadata": {
        "id": "odCpHS-5whzH"
      },
      "source": [
        "%%writefile fibnumbers.java\r\n",
        "\r\n",
        "public class fibnumbers {\r\n",
        "    public static void main(String[] args) {\r\n",
        "        \r\n",
        "        int count = 50, num1 = 0, num2 = 1;\r\n",
        "        System.out.print(\"Fibonacci Series of \" + count + \" numbers:\");\r\n",
        "\r\n",
        "        for (int i = 1; i<= count; ++i) {\r\n",
        "            System.out.print(num1 + \" \");\r\n",
        "\r\n",
        "            int sumOfPrevTwo = num1 + num2;\r\n",
        "            num1 = num2;\r\n",
        "            num2 = sumOfPrevTwo;\r\n",
        "\r\n",
        "        }\r\n",
        "    }\r\n",
        "}"
      ],
      "execution_count": null,
      "outputs": []
    },
    {
      "cell_type": "code",
      "metadata": {
        "id": "z2pZrSNhysCw"
      },
      "source": [
        "!javac fibnumbers.java\r\n",
        "!java fibnumbers"
      ],
      "execution_count": null,
      "outputs": []
    },
    {
      "cell_type": "markdown",
      "metadata": {
        "id": "yRTLTIIS7TMN"
      },
      "source": [
        "An example for the while loop!!"
      ]
    },
    {
      "cell_type": "code",
      "metadata": {
        "id": "CxbUyvZB7V6u"
      },
      "source": [
        "%%writefile Loops.java\r\n",
        "public class Loops{\r\n",
        "    public static void main(String [] args){\r\n",
        "        int num = 5;\r\n",
        "        while (num < 10){\r\n",
        "          System.out.println(\"our var's current value is \" + num + \" on the first line of the loop\");\r\n",
        "          System.out.println(\"now we will increment \" + num + \" by 1\");\r\n",
        "          num ++;\r\n",
        "          System.out.println(\"now our var is equal to \" + num + \".\");\r\n",
        "          System.out.println(\"----------------------------------------\");\r\n",
        "\r\n",
        "        }\r\n",
        "    }\r\n",
        "}"
      ],
      "execution_count": null,
      "outputs": []
    },
    {
      "cell_type": "code",
      "metadata": {
        "id": "iYfV_HTy8Nsz"
      },
      "source": [
        "!javac Loops.java\r\n",
        "!java Loops"
      ],
      "execution_count": null,
      "outputs": []
    },
    {
      "cell_type": "markdown",
      "metadata": {
        "id": "8su3ZDTB21OV"
      },
      "source": [
        "While loop example!"
      ]
    },
    {
      "cell_type": "code",
      "metadata": {
        "id": "-fMY2cVh26W1"
      },
      "source": [
        "%%writefile For.java\r\n",
        "public class For { \r\n",
        "    public static void main(String [] args){\r\n",
        "        int count = 0;\r\n",
        "\r\n",
        "        System.out.println(\"beginning of the while loop\");\r\n",
        "        while ( count < 10 ) {\r\n",
        "            System.out.println(count);\r\n",
        "            count ++;\r\n",
        "        }        \r\n",
        "\r\n",
        "        System.out.println(\" beggining of the for loop\");\r\n",
        "        for (int count1 = 0; count1 < 10; count1++) { //this is the same as the while loop on top\r\n",
        "            System.out.println(count1);\r\n",
        "        }\r\n",
        "    }\r\n",
        "}"
      ],
      "execution_count": null,
      "outputs": []
    },
    {
      "cell_type": "code",
      "metadata": {
        "id": "NHYzb7Na4UK8"
      },
      "source": [
        "!javac For.java\r\n",
        "!java For"
      ],
      "execution_count": null,
      "outputs": []
    },
    {
      "cell_type": "markdown",
      "metadata": {
        "id": "qbblAkxi6Eww"
      },
      "source": [
        "# Useful conventions to know about"
      ]
    },
    {
      "cell_type": "code",
      "metadata": {
        "id": "stocUwCz8cnA"
      },
      "source": [
        "// Create your scanner object outside of the loop\r\n",
        "// initialize variables outsde of the loop\r\n",
        "\r\n",
        "while (true) {\r\n",
        "  // is a common way of opening a user input loop.\r\n",
        "  //it is used with a break when certain conditions are met\r\n",
        "\r\n",
        "\r\n",
        "\r\n",
        "  if (condition){ // have a condition for exiting the loop\r\n",
        "\r\n",
        "      break ; // will stop your loop and brea you out of it.\r\n",
        "\r\n",
        "  }\r\n",
        "\r\n",
        "}"
      ],
      "execution_count": null,
      "outputs": []
    },
    {
      "cell_type": "markdown",
      "metadata": {
        "id": "UTIf8ySq7Qwz"
      },
      "source": [
        "# While loop Exercise\r\n",
        "\r\n",
        "Write a while loop that takes user input and adds something to it, then repeats it back to the user with the additions, and continues to do this until the user types \"break\"\r\n",
        "\r\n",
        "For those of you who are advanced and board, use this library to generate ascii art of the words your usr inputs:\r\n",
        "https://www.baeldung.com/ascii-art-in-java\r\n",
        "\r\n",
        "You can also hot key some words like ascii mona lisa.\r\n",
        "\r\n",
        "For others, you can reverse the user's string, censor particular words in the user string, by them with ##########. Make a makeshift \"Eliza\" program, by matching on words to ask questions back to the user.\r\n",
        "\r\n",
        "For reference\r\n",
        "\r\n",
        "https://www.w3schools.com/java/java_ref_string.asp\r\n",
        "\r\n"
      ]
    },
    {
      "cell_type": "code",
      "metadata": {
        "id": "P-xdh6s-BZsn"
      },
      "source": [
        "%%writefile scanWhile.java\r\n",
        "import java.util.Scanner;\r\n",
        "  public class scanWhile {\r\n",
        "      public static void main(String [] args) {\r\n",
        "        Scanner scnr = new Scanner(System.in);\r\n",
        "\r\n",
        "        int count = scnr.nextInt();\r\n",
        "\r\n",
        "        while (count < 20) { \r\n",
        "            System.out.println(count);\r\n",
        "            count++;\r\n",
        "\r\n",
        "        if (count > 15){ \r\n",
        "            System.out.println(count);\r\n",
        "            count++;\r\n",
        "            break;\r\n",
        "          }\r\n",
        "        }\r\n",
        "\r\n",
        "      }\r\n",
        "  }\r\n"
      ],
      "execution_count": null,
      "outputs": []
    },
    {
      "cell_type": "code",
      "metadata": {
        "id": "VkPf1yHHBcqC"
      },
      "source": [
        "!javac scanWhile.java\r\n",
        "!echo -e \"5\" > test\r\n",
        "!java scanWhile < test"
      ],
      "execution_count": null,
      "outputs": []
    }
  ]
}