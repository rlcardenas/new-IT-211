{
  "nbformat": 4,
  "nbformat_minor": 0,
  "metadata": {
    "colab": {
      "name": " Week2.ipynb",
      "private_outputs": true,
      "provenance": [],
      "collapsed_sections": [],
      "include_colab_link": true
    },
    "kernelspec": {
      "name": "python3",
      "display_name": "Python 3"
    }
  },
  "cells": [
    {
      "cell_type": "markdown",
      "metadata": {
        "id": "view-in-github",
        "colab_type": "text"
      },
      "source": [
        "<a href=\"https://colab.research.google.com/github/rlcardenas/new-IT-211/blob/main/Week2.ipynb\" target=\"_parent\"><img src=\"https://colab.research.google.com/assets/colab-badge.svg\" alt=\"Open In Colab\"/></a>"
      ]
    },
    {
      "cell_type": "markdown",
      "metadata": {
        "id": "7yiqcKoEDvYr"
      },
      "source": [
        "This is a place for your notes and code examples.  Here's a demo, which you should feel free to delete:\n",
        "<br>\n",
        "<br>\n",
        "<br>"
      ]
    },
    {
      "cell_type": "markdown",
      "metadata": {
        "id": "mFw9p5A_Crm5"
      },
      "source": [
        "\n",
        "https://google.github.io/styleguide/javaguide.html#s4.6-whitespace\n",
        "\n",
        "https://www.oracle.com/java/technologies/javase/codeconventions-indentation.html\n",
        "\n",
        "Code Reference: https://www.w3schools.com/java/java_user_input.asp"
      ]
    },
    {
      "cell_type": "code",
      "metadata": {
        "id": "yauKfv1CEWsk"
      },
      "source": [
        "%%writefile Input.java\n",
        "import java.util.Scanner;\n",
        "public class Input {                          \n",
        "  public static void main(String [] args) {  \n",
        "    Scanner scnr = new Scanner(System.in);       // Create a Scanner object\n",
        "    System.out.println(\"What's your name?\");\n",
        "    //String name = scnr.next();                   // Capture command-line input and put it into the name variable\n",
        "    String fullName = scnr.nextLine();               //nexLine prints everything until the next line of code.\n",
        "                             \n",
        "   \n",
        "    System.out.println(\"My name is \" + fullName);    // Print \"My name is\" followed by the name the user entered.\n",
        "  }\n",
        "}"
      ],
      "execution_count": null,
      "outputs": []
    },
    {
      "cell_type": "code",
      "metadata": {
        "id": "MrO2ZPgOEgqj"
      },
      "source": [
        "\n",
        "!javac Input.java\n",
        "!echo \"Rosa Cardenas\" > test\n",
        "!java Input < test"
      ],
      "execution_count": null,
      "outputs": []
    },
    {
      "cell_type": "code",
      "metadata": {
        "id": "O5vvCAaHEn5M"
      },
      "source": [
        "%%writefile Input.java\n",
        "import java.util.Scanner;\n",
        "\n",
        "//Goal: Calculator\n",
        "\n",
        "public class Input {                          \n",
        "  public static void main(String [] args) {  \n",
        "    Scanner calc = new Scanner(System.in);                      //Create a Scanner object\n",
        "    \n",
        "    System.out.println(\"What is your first number?\");\n",
        "      int firstNumber = calc.nextInt();                         //Get int from user and put in firstNumber\n",
        "\n",
        "    System.out.println(\"What is your second number?\");\n",
        "      int secondNumber = calc.nextInt();                        //Get int from user and put in secondNumber\n",
        "\n",
        "    System.out.println(\"Now we will add your numbers!\");\n",
        "      int myAnswer = firstNumber + secondNumber;                //Add both numbers together and put in myAnswer\n",
        "                             \n",
        "   \n",
        "    System.out.println(\"My number is \" + firstNumber + \".\\nMy second number is \" + secondNumber + \". \\nAdded together they equal \" + myAnswer + \".\");   \n",
        "  }\n",
        "}"
      ],
      "execution_count": null,
      "outputs": []
    },
    {
      "cell_type": "code",
      "metadata": {
        "id": "Kvgs_RtUEuIs"
      },
      "source": [
        "!javac Input.java\n",
        "!echo -e \"22\\n30\" > test\n",
        "!cat test\n",
        "!java Input < test"
      ],
      "execution_count": null,
      "outputs": []
    },
    {
      "cell_type": "markdown",
      "metadata": {
        "id": "iiPAMIv3EzXl"
      },
      "source": [
        "Wednesday "
      ]
    },
    {
      "cell_type": "code",
      "metadata": {
        "id": "tPildKJLE6lc"
      },
      "source": [
        "%%writefile Input.java\n",
        "import java.util.Scanner;\n",
        "\n",
        "// Goal: Build a Calculator\n",
        "//Expectation: punch in numbers instead of being prompted (maybe promoted once, but not twice)\n",
        "//Expectation: only reults of operator punched in\n",
        "// ? Scientific notation translator: 9.313225746154785E20 931322574615478500000 (example)\n",
        "//Figure out how to enter something like: 2 + 4 and get just 6 as the output.\n",
        "//If/then & Switch\n",
        "\n",
        "public class Input {                          \n",
        "    public static void main(String [] args) {  \n",
        "        Scanner randomScanner = new Scanner(System.in);       // Create a Scanner object\n",
        "\n",
        "        System.out.println(\"Enter your first number:\");       // Scans for first number and stores it as firstNumber.\n",
        "        double firstNumber = randomScanner.nextDouble();\n",
        "\n",
        "        System.out.println(\"Enter your second number:\");      // Scans for second number and stores it as secondNumber.\n",
        "        double secondNumber = randomScanner.nextDouble();\n",
        "\n",
        "\n",
        "        double myAnswer = firstNumber + secondNumber;             // Adds those numbers together and stores the answer as myAnswer.\n",
        "        double myAnswer2 = firstNumber - secondNumber;            //Subtracts second number from first\n",
        "        double myAnswer3 = firstNumber * secondNumber;            //Multiplies first number by second\n",
        "        double myAnswer4 = firstNumber / secondNumber;            //Divides first number by second number\n",
        "        double myAnswer5 = Math.pow(firstNumber, secondNumber);   //Raise the first number to the power of the second number\n",
        "\n",
        "       \n",
        "        System.out.println(\"My first number is \" + firstNumber + \".\\nMy second number is \" + secondNumber + \".\\nAddition: \" + myAnswer + \".\\nSubtraction: \" + myAnswer2 + \".\\nMultiplication: \" + myAnswer3 + \".\\nDivision: \" + myAnswer4 + \". \\nExponent: \" + myAnswer5 + \".\");\n",
        "\n",
        "  }\n",
        "}"
      ],
      "execution_count": null,
      "outputs": []
    },
    {
      "cell_type": "code",
      "metadata": {
        "id": "Rb0tmkL0E--2"
      },
      "source": [
        "\n",
        "!javac Input.java\n",
        "!echo -e \"5.0\\n30\" > test\n",
        "!cat test\n",
        "!java Input < test"
      ],
      "execution_count": null,
      "outputs": []
    },
    {
      "cell_type": "code",
      "metadata": {
        "id": "C1iwTduXEVFm"
      },
      "source": [
        "%%writefile MyNotes.java\n",
        "public class MyNotes {\n",
        "    public static void main (String[] args) {\n",
        "        System.out.println (\"My notes have working code in them!\");\n",
        "    }\n",
        "}"
      ],
      "execution_count": null,
      "outputs": []
    },
    {
      "cell_type": "code",
      "metadata": {
        "id": "jRzZxWlTEgN7"
      },
      "source": [
        "!javac MyNotes.java\n",
        "!java MyNotes"
      ],
      "execution_count": null,
      "outputs": []
    },
    {
      "cell_type": "markdown",
      "metadata": {
        "id": "CER-3tJ3Dotl"
      },
      "source": [
        "You only need to run the code below if you want to use Java 12. You won't need the special new properties of Java 12 for most of the class, but be aware that our GitHub Classroom tests run on Java 12."
      ]
    },
    {
      "cell_type": "code",
      "metadata": {
        "id": "jT9yfcqCDeC5"
      },
      "source": [
        "!sudo add-apt-repository ppa:openjdk-r/ppa -y\n",
        "!sudo apt-get update -y -q\n",
        "!sudo apt-get install openjdk-12-jre-headless -y -q\n",
        "!echo \"0\" | sudo update-alternatives --config java\n",
        "!java -version"
      ],
      "execution_count": null,
      "outputs": []
    }
  ]
}