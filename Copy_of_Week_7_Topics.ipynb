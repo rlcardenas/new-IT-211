{
  "nbformat": 4,
  "nbformat_minor": 0,
  "metadata": {
    "colab": {
      "name": "Copy of Week 7 Topics.ipynb",
      "private_outputs": true,
      "provenance": [],
      "collapsed_sections": [],
      "include_colab_link": true
    },
    "kernelspec": {
      "name": "python3",
      "display_name": "Python 3"
    }
  },
  "cells": [
    {
      "cell_type": "markdown",
      "metadata": {
        "id": "view-in-github",
        "colab_type": "text"
      },
      "source": [
        "<a href=\"https://colab.research.google.com/github/rlcardenas/new-IT-211/blob/main/Copy_of_Week_7_Topics.ipynb\" target=\"_parent\"><img src=\"https://colab.research.google.com/assets/colab-badge.svg\" alt=\"Open In Colab\"/></a>"
      ]
    },
    {
      "cell_type": "markdown",
      "metadata": {
        "id": "Jnfwx31L90wW"
      },
      "source": [
        "# Learning Objectives\n",
        "\n",
        "* JUnit 5 testing of classes and methods\n",
        "* Objects and Classes basics\n",
        "* Using and defining classes\n",
        "* Mutators, accessors and private helper methods\n",
        "* Constructors\n",
        "* Defining the main() in custom defined classes\n"
      ]
    },
    {
      "cell_type": "markdown",
      "metadata": {
        "id": "esUnyshbAt2G"
      },
      "source": [
        "# Pacing\n",
        "\n",
        "At this point, the book starts to split into chapters that cover very specific topics, so we'll be doing a couple at a time.\n",
        "\n",
        "This week, we'll cover 'mutable objects', 'immutable objects', and 'designing classes'. Both mutable and immutable objects are fairly straight forward, while 'Designing Classes' is a little more complex and depends on knowing what objects are and do. Other intro books group these together and do not go into depth about objects, however our book has good reason for looking at objects in depth, and you'll need to know about them for the code that follows.\n",
        "\n",
        "Similarly, next week, we'll be covering 'arrays of objects' and 'objects of arrays', which we'll need for 'extending classes' (inheritance).\n",
        "\n",
        "After that, we'll be doing 1 chapter a week until the end of the quarter."
      ]
    },
    {
      "cell_type": "markdown",
      "metadata": {
        "id": "Manaz24xBKdJ"
      },
      "source": [
        "# Junit Testing (Class & Method)\n",
        "\n",
        "* We will be using JUnit 5 (the latest version of JUnit), much of the documentation out there is still for JUnit 4, so here's a handy translation table: https://howtodoinjava.com/junit5/junit-5-vs-junit-4/\n",
        "* A very good tutorial that includes some theory of testing and explains concepts like 'coverage', it's a little long, but we'll take a look in class: https://www.vogella.com/tutorials/JUnit/article.html\n",
        "* We won't test them here, but mocks are a good thing to know about when dev'ing: https://www.vogella.com/tutorials/Mockito/article.html\n",
        "* You can write what's called a \"test bench\" which will thouroughly test all Classes.  The goal is 100% code coverage and it should include edge cases as well as test cases.\n",
        "* At some point, you'll want to do 'intigration testing' which means testing your classes all together in such a way that you can make sure their intigration is working propperly: https://phauer.com/2019/focus-integration-tests-mock-based-tests/#integration-tests\n",
        "* Good reference for clear JUnit testing (note, any company you work for will likely have their own requirements for how tests are written, ask about them up front): https://phauer.com/2019/modern-best-practices-testing-java/\n"
      ]
    },
    {
      "cell_type": "code",
      "metadata": {
        "id": "RO3m0apAa-PF"
      },
      "source": [
        "%%writefile FlowOfExecution.java\n",
        "class MyMethods{\n",
        "    public static int doubleMe(int b) {\n",
        "        return (b + b);\n",
        "    }\n",
        "        \n",
        "    public static String doubleMe(String b) {\n",
        "        return (b + \" \" + b); // Note, this will concatonate the strings together with a space between them.\n",
        "    }\n",
        "        \n",
        "    public static double doubleMe(double b) {\n",
        "        return (b + b);\n",
        "    }\n",
        "        \n",
        "    public static long doubleMe(long b) {\n",
        "        return (b + b);\n",
        "    }\n",
        "}\n",
        "\n",
        "public class FlowOfExecution{\n",
        "    public static void main(String [] args) {\n",
        "        int intNum        = 5;\n",
        "        String stringWord = \"NOW\";\n",
        "        double doubleNum  = 10.404;\n",
        "\n",
        "        System.out.println(\"Passing already declared variables to MyMethods.doubleMe()\");\n",
        "        System.out.println(MyMethods.doubleMe(intNum));\n",
        "        System.out.println(MyMethods.doubleMe(stringWord));\n",
        "        System.out.println(MyMethods.doubleMe(doubleNum) + \"\\n\");\n",
        "    }\n",
        "}"
      ],
      "execution_count": null,
      "outputs": []
    },
    {
      "cell_type": "code",
      "metadata": {
        "id": "2ZyuUxPHzNke"
      },
      "source": [
        "!javac FlowOfExecution.java\n",
        "!java FlowOfExecution"
      ],
      "execution_count": null,
      "outputs": []
    },
    {
      "cell_type": "markdown",
      "metadata": {
        "id": "6iDvFNekzarZ"
      },
      "source": [
        "# JUnit 5 test of two methods\n",
        "\n",
        "I left a few methods untested, and neither class has actually had an instance created yet because I've only tested public static methods so far.  We'll want to build both classes and test all our methods, but for now, here's an example: "
      ]
    },
    {
      "cell_type": "code",
      "metadata": {
        "id": "I_mzcApSzNO6"
      },
      "source": [
        "import static org.junit.Assert.assertEquals;\n",
        "\n",
        "import org.junit.jupiter.api.DisplayName;\n",
        "import org.junit.jupiter.api.Test;\n",
        "\n",
        "class FlowOfExecutionTest {\n",
        "\n",
        "\t@Test\n",
        "\t@DisplayName(\"Test overloaded method dobuleMe() for accurate string value.\") \n",
        "    public void testDoubleMeString() {\n",
        "\t\t\n",
        "\t\tString expected = \"test test\";\n",
        "\t\tString actual = MyMethods.doubleMe(\"test\");   // Given & When because public static void\n",
        "\t\t\n",
        "\t\tassertEquals(expected, actual);\n",
        "\t\t\n",
        "\t\t\n",
        "\t}\n",
        "\t\n",
        "    @Test\n",
        "    @DisplayName(\"Test overloaded method doubleMe() for accurate long value.\")\n",
        "    public void testDoubleMeLong() {\n",
        "    \t\n",
        "    \tlong expected = 20000000L;\n",
        "    \tlong actual   = MyMethods.doubleMe(10000000L);\n",
        "    \t\n",
        "    \tassertEquals(expected, actual);\n",
        "    }\n",
        "\t"
      ],
      "execution_count": null,
      "outputs": []
    },
    {
      "cell_type": "markdown",
      "metadata": {
        "id": "PImZLK48LXsH"
      },
      "source": [
        "# Junit Testing Output\n",
        "\n",
        "As we've seen, testing a return value is still complex, but relatively straight forward.  What do you do if you want to test a method that DOES something?  In other words, a method like `System.out.println` that has no return value (is `void`) but, for example, prints something to standard out.\n",
        "\n",
        "Well, the answer depends on what, exactly, the method does, but let's take an example of one that prints something to standard out.  How do you capture that output?\n",
        "\n",
        "Let's look at an example:"
      ]
    },
    {
      "cell_type": "code",
      "metadata": {
        "id": "gLgc9tFVPNLq"
      },
      "source": [
        "%%writefile RecursiveMethod.java\n",
        "\n",
        "public class RecursiveMethod {\n",
        "    public static void main(String [] args) {\n",
        "        breakDown(\"print me!\");\n",
        "        \n",
        "    }\n",
        "\n",
        "    // Example recursive method that returns nothing, but breaks down a string into chars\n",
        "    // and prints each char.  \n",
        "    \n",
        "    public static void breakDown(String a) {\n",
        "        int length = a.length();\n",
        "        if (length == 0) {\n",
        "            return;\n",
        "        } else {\n",
        "            System.out.println(a.charAt(0));\n",
        "            a = a.substring(1, length);\n",
        "            breakDown(a);\n",
        "        }\n",
        "    }\n",
        "\n",
        "}"
      ],
      "execution_count": null,
      "outputs": []
    },
    {
      "cell_type": "code",
      "metadata": {
        "id": "FlYFKYHZPZ2k"
      },
      "source": [
        "!javac RecursiveMethod.java\n",
        "!java RecursiveMethod"
      ],
      "execution_count": null,
      "outputs": []
    },
    {
      "cell_type": "markdown",
      "metadata": {
        "id": "r0miIFAJPkEe"
      },
      "source": [
        "So, as you see, it will print the string it was given to standard out, letter by letter, with a new line in between each letter.  How can we test this when we don't have access to standard out?\n",
        "\n",
        "The answer is to hook the print stream up to something that isn't standard out, and has a method for converting what it has stored/ captured into a string.  we do this by creating a `PrintStream` object and inputting our byteArrayOS variable which is a new object of the ByteArrayOutputStream class.  We do that, run our method, so that it gets handled by the ByteArrayOutputStream object and then use the ByteArrayOutputStream method `.toString` to turn it into a string variable, we've chosen to call 'result'.  \n",
        "\n",
        "See below:"
      ]
    },
    {
      "cell_type": "code",
      "metadata": {
        "id": "e5681tP69vCC"
      },
      "source": [
        "%%writefile TestRecursiveMethodJUnit5.java\n",
        "import static org.junit.Assert.assertEquals;\n",
        "import org.junit.jupiter.api.Test;\n",
        "import org.junit.jupiter.api.DisplayName;\n",
        "\n",
        "import java.io.ByteArrayOutputStream;\n",
        "import java.io.PrintStream;\n",
        "\n",
        "\n",
        "class TestRecursiveMethodJUnit5 {\n",
        "\n",
        "\t@Test\n",
        "  @DisplayName(\"Any String Entered Should Be Output 1 Letter Per Line\")\n",
        "\n",
        "\tpublic void testBreakDown () {\n",
        "\t\tByteArrayOutputStream byteArrayOS = new ByteArrayOutputStream();\n",
        "\t\tPrintStream ps = new PrintStream(byteArrayOS);\n",
        "\t\tPrintStream old = System.out;            // don't lose System.out, save it.  \n",
        "\t\tSystem.setOut(ps);                       // use your stream instead of System Out.\n",
        "\t\t\n",
        "\t    RecursiveMethod.breakDown(\"print me!\");  // Both Given and When\n",
        "\t\t                                         // Normally we would need to create an instance, but it's public static\n",
        "\t\t                                         // so we don't!\n",
        "\t\t                                      \n",
        "\t    System.out.flush();                      // Clean things up, flush it\n",
        "\t    System.setOut(old);                      // put System.out back\n",
        "\t    String result = byteArrayOS.toString();  // convert the stream to a string and store it in the string 'result'\n",
        "\t    \n",
        "\t    String expected = \"p\\n\"\n",
        "\t\t\t\t+ \"r\\n\"\n",
        "\t\t\t\t+ \"i\\n\"\n",
        "\t\t\t\t+ \"n\\n\"\n",
        "\t\t\t\t+ \"t\\n\"\n",
        "\t\t\t\t+ \" \\n\"\n",
        "\t\t\t\t+ \"m\\n\"\n",
        "\t\t\t\t+ \"e\\n\"\n",
        "\t\t\t\t+ \"!\" \n",
        "\t\t\t\t+ \"\\n\" ;\n",
        "\t\t\n",
        "\t\tassertEquals(expected, result);\n",
        "\t}\n",
        "\n",
        "}"
      ],
      "execution_count": null,
      "outputs": []
    },
    {
      "cell_type": "markdown",
      "metadata": {
        "id": "BZGcLWFualnC"
      },
      "source": [
        "This is not something you can test from the command line at this point.  If you really wanted to, you could create a 'test runner class': https://www.tutorialspoint.com/junit/junit_executing_tests.htm\n",
        "\n",
        "But I recommend you wait for Gradle which we'll cover in a couple of weeks.  It will make command-line testing intuitive and easy.\n",
        "\n",
        "That said, it's easy to run a JUnit test in eclipse and most other IDE's, so we'll be doing that in class."
      ]
    },
    {
      "cell_type": "markdown",
      "metadata": {
        "id": "RqfnEQYmiF1q"
      },
      "source": [
        "# Immutable Objects\n",
        "\n",
        "You've already been using them!  `String` is the most popular immutable object, similarly, BigInteger, and all the wrapper classes for primitives:  Boolean, Character, Double, and Long.  Note, the wrapper classes are really different from the primitives but have methods available unlike primitives.\n",
        "\n",
        "Because they are objects you must use .equals() to compare numbers in them, just like with String.  == will only tell you if they are pointed to the same object in memory, not whether or not they have the same value.\n",
        "\n",
        "Primitives: int, double, char, and boolean\n"
      ]
    },
    {
      "cell_type": "markdown",
      "metadata": {
        "id": "srxR-5MrkKJr"
      },
      "source": [
        "# Mutable Objects\n",
        "\n",
        "You've already been using them!  Arrays are mutable objects, though their length is not changeable, their contents can change no problem!  Also, StringBuilder, which is a handy alternative to setting a String equal to itself plus a concatenation, which is messy and relies on garbage collection.  \n",
        "\n",
        "java.util.Date is a mutable object.  Good examples: https://examples.javacodegeeks.com/java-util-date/\n",
        "\n",
        "You can access their attributes (internal values) using dot notation."
      ]
    }
  ]
}